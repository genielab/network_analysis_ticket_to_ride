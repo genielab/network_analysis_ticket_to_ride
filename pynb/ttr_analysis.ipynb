{
 "cells": [
  {
   "cell_type": "code",
   "execution_count": 1,
   "metadata": {},
   "outputs": [],
   "source": [
    "import os\n",
    "import re\n",
    "import networkx as nx\n",
    "import matplotlib.pyplot as plt\n",
    "import pandas as pd\n",
    "import json\n",
    "import math\n",
    "import numpy as np\n",
    "from bokeh.io import show, output_file\n",
    "from bokeh.plotting import figure\n",
    "\n",
    "from bokeh.io import show, output_notebook\n",
    "from bokeh.plotting import figure, ColumnDataSource\n",
    "import pandas as pd\n",
    "\n",
    "from bokeh.models import HoverTool\n",
    "from numpy import histogram, linspace\n",
    "\n",
    "%matplotlib inline\n",
    "%config IPCompleter.greedy=True\n",
    "\n",
    "pd.set_option('display.max_colwidth', -1)"
   ]
  },
  {
   "cell_type": "code",
   "execution_count": 2,
   "metadata": {},
   "outputs": [],
   "source": [
    "data_dir='/Users/genie/dev/projects/github/network_analysis_ticket_to_ride/data/'\n",
    "destinations_path = os.path.join(data_dir,'destinations.txt')\n",
    "routes_path = os.path.join(data_dir,'trainroutes.txt')\n",
    "output_dir='/Users/genie/dev/projects/github/network_analysis_ticket_to_ride/output/'"
   ]
  },
  {
   "cell_type": "code",
   "execution_count": 3,
   "metadata": {},
   "outputs": [],
   "source": [
    "pattern = re.compile('\\\\w+')"
   ]
  },
  {
   "cell_type": "code",
   "execution_count": 4,
   "metadata": {},
   "outputs": [],
   "source": [
    "Gm = nx.MultiGraph()"
   ]
  },
  {
   "cell_type": "code",
   "execution_count": 5,
   "metadata": {},
   "outputs": [],
   "source": [
    "# functions\n",
    "\n",
    "# function to calculate points from segment length\n",
    "def points(distance):\n",
    "    x = [0, 1, 2, 4, 7, 0, 15, 0, 21]\n",
    "    return x[distance]\n",
    "\n",
    "def inverse_weight(distance):\n",
    "    return(1/distance)\n",
    "\n",
    "# distance of path p in graph g\n",
    "def distance_of_path(g, p):\n",
    "    d = sum([g.edges[p[e],p[e+1]]['distance'] for e in range(len(p)-1)])\n",
    "    return d\n",
    "\n",
    "# points of path p in graph g\n",
    "def points_of_path(g, p):\n",
    "    d = sum([g.edges[p[e],p[e+1]]['points'] for e in range(len(p)-1)])\n",
    "    return d\n",
    "\n",
    "# return all paths between u and v in graph g up to distance min(u,v)+2\n",
    "def alternate_scoring_paths_with_cutoff(g, u, v, cutoff):\n",
    "    sp_length = nx.shortest_path_length(g,u,v)\n",
    "    paths = nx.all_simple_paths(g, u, v, cutoff=sp_length+2)\n",
    "    return list(paths)"
   ]
  },
  {
   "cell_type": "code",
   "execution_count": 6,
   "metadata": {},
   "outputs": [],
   "source": [
    "# construct graph\n",
    "\n",
    "Gm.clear()\n",
    "\n",
    "with open(routes_path) as f:\n",
    "    for line in f:\n",
    "        city1, city2, distance, route_type, color, is_multi = pattern.findall(line)\n",
    "        distance = int(distance)\n",
    "        if(Gm.has_edge(city1,city2)==False):\n",
    "            Gm.add_edge(city1, city2, key=0, distance=distance, route_type=route_type, color=color, points=points(distance), \n",
    "                   weight=distance, importance=0)\n",
    "\n",
    "G = nx.Graph(Gm)"
   ]
  },
  {
   "cell_type": "markdown",
   "metadata": {},
   "source": [
    "## Structure"
   ]
  },
  {
   "cell_type": "code",
   "execution_count": 7,
   "metadata": {},
   "outputs": [],
   "source": [
    "from bokeh.models import Range1d, Plot\n",
    "from bokeh.models.graphs import from_networkx\n",
    "from bokeh.models.graphs import NodesAndLinkedEdges\n",
    "from bokeh.models.annotations import Title\n",
    "from bokeh.models import Circle, HoverTool, MultiLine\n",
    "from bokeh.plotting import figure, show, save\n",
    "from bokeh.io import output_file, output_notebook\n",
    "from bokeh.models import Div\n",
    "from bokeh.layouts import gridplot, column\n",
    "\n",
    "#output_notebook()\n",
    "output_file(output_dir + 'node_network.html', mode='inline')\n",
    "\n",
    "# normalize node size\n",
    "degree_list = [G.degree[n] for n in G.nodes(data=False)]\n",
    "start = 10\n",
    "end = 25\n",
    "min_ex = np.min(degree_list)\n",
    "max_ex = np.max(degree_list)\n",
    "degree_dict = {}\n",
    "for n,v in sorted(Gm.degree, key=lambda x: x[1], reverse=True):\n",
    "    norm_v = ((v-min_ex)/(max_ex-min_ex)) * (end-start) + start\n",
    "    degree_dict[n] = norm_v\n",
    "\n",
    "# Set node attributes\n",
    "#nx.set_node_attributes(Gm, 'node_color', node_color)\n",
    "nx.set_node_attributes(Gm, degree_dict, 'node_size')\n",
    "\n",
    "# We could use figure here but don't want all the axes and titles\n",
    "plot = Plot(x_range=Range1d(-2, 2), y_range=Range1d(-2 ,2), title=None) #title=Title(text=\"Network\"))\n",
    "#plot.title.text=\"Network\"\n",
    "plot.width = 900;\n",
    "\n",
    "# Create a Bokeh graph from the NetworkX input using nx.spring_layout\n",
    "graph = from_networkx(Gm, nx.spring_layout, scale=1.8, center=(0,0))\n",
    "plot.renderers.append(graph)\n",
    "\n",
    "# Blue circles for nodes, and light grey lines for edges\n",
    "graph.node_renderer.glyph = Circle(size='node_size', fill_color='#2b83ba')\n",
    "graph.edge_renderer.glyph = MultiLine(line_color=\"#cccccc\", line_alpha=0.8, line_width=2)\n",
    "\n",
    "# green hover for both nodes and edges\n",
    "graph.node_renderer.hover_glyph = Circle(size=25, fill_color='#abdda4')\n",
    "graph.edge_renderer.hover_glyph = MultiLine(line_color='#abdda4', line_width=4)\n",
    "\n",
    "# When we hover over nodes, highlight adjecent edges too\n",
    "graph.inspection_policy = NodesAndLinkedEdges()\n",
    "\n",
    "plot.add_tools(HoverTool(tooltips=\"@index\"))\n",
    "\n",
    "# Add a title for the entire visualization using Div\n",
    "plot_html = \"\"\"<h3>Chart 1: Ticket-to-Ride Network Structure</h3>\n",
    "Note: Nodes represent cities and edges represent tracks between cities, node size is proportional to the degree\n",
    "<br>\n",
    "<i>Hover over each node for more information</i>\n",
    "\"\"\"\n",
    "plot_subtitle = Div(width=800, text=plot_html)\n",
    "\n",
    "# Visualize\n",
    "show(column(plot_subtitle, plot))\n",
    "\n",
    "#show(plot)\n",
    "#save(plot)"
   ]
  },
  {
   "cell_type": "markdown",
   "metadata": {},
   "source": [
    "### Degree & Weights Distribution"
   ]
  },
  {
   "cell_type": "code",
   "execution_count": 8,
   "metadata": {
    "scrolled": false
   },
   "outputs": [],
   "source": [
    "from collections import Counter \n",
    "degree_count = Counter(['Degree-' + str(G.degree[n]) for n in G.nodes(data=False)]) \n",
    "weights_count = Counter(['Weight-' + str(d['weight']) for u,v,d in G.edges(data=True)])\n",
    "\n",
    "from math import pi\n",
    "import pandas as pd\n",
    "from bokeh.plotting import figure, show, save\n",
    "from bokeh.io import output_file, output_notebook\n",
    "from bokeh.palettes import Category20c\n",
    "from bokeh.transform import cumsum\n",
    "from bokeh.layouts import row, column\n",
    "from bokeh.models import Div\n",
    "\n",
    "output_file(output_dir + \"degree_weight_dist.html\")\n",
    "#output_notebook()\n",
    "\n",
    "degrees = dict(degree_count)\n",
    "p1_data = pd.Series(degrees).reset_index(name='value').rename(columns={'index':'degree'})\n",
    "p1_data['angle'] = p1_data['value']/p1_data['value'].sum() * 2*pi\n",
    "p1_data['pct_share'] = round((p1_data['value']/p1_data['value'].sum())*100,2)\n",
    "p1_data['color'] = Category20c[len(degrees)]\n",
    "\n",
    "p1 = figure(plot_height=350, plot_width=500, title=\"2a-Degree Distribution\", toolbar_location=None,\n",
    "           tools=\"hover\", tooltips=\"@degree: @value (@pct_share%)\", x_range=(-0.5, 1.0))\n",
    "\n",
    "p1.wedge(x=0, y=1, radius=0.4,\n",
    "        start_angle=cumsum('angle', include_zero=True), end_angle=cumsum('angle'),\n",
    "        line_color=\"white\", fill_color='color', legend='degree', source=p1_data)\n",
    "\n",
    "p1.axis.axis_label=None\n",
    "p1.axis.visible=False\n",
    "p1.grid.grid_line_color = None\n",
    "p1.legend.location = \"bottom_right\"\n",
    "\n",
    "#show(p1)\n",
    "\n",
    "weights = dict(weights_count)\n",
    "p2_data = pd.Series(weights).reset_index(name='value').rename(columns={'index':'weight'})\n",
    "p2_data['angle'] = p2_data['value']/p2_data['value'].sum() * 2*pi\n",
    "p2_data['pct_share'] = round((p2_data['value']/p2_data['value'].sum())*100,2)\n",
    "p2_data['color'] = Category20c[len(weights)]\n",
    "\n",
    "p2 = figure(plot_height=350, plot_width=500, title=\"2b-Weight Distribution\", toolbar_location=None,\n",
    "           tools=\"hover\", tooltips=\"@weight: @value (@pct_share%)\", x_range=(-0.5, 1.0))\n",
    "\n",
    "p2.wedge(x=0, y=1, radius=0.4,\n",
    "        start_angle=cumsum('angle', include_zero=True), end_angle=cumsum('angle'),\n",
    "        line_color=\"white\", fill_color='color', legend='weight', source=p2_data)\n",
    "\n",
    "p2.axis.axis_label=None\n",
    "p2.axis.visible=False\n",
    "p2.grid.grid_line_color = None\n",
    "p2.legend.location = \"bottom_right\"\n",
    "\n",
    "# Add a title for the entire visualization using Div\n",
    "html = \"\"\"<h3>Chart 2: Degree and Weight Distribution</h3>\n",
    "Note: Each pie segment represents the number of cities with a corresponding degree or weight.\n",
    "<br>\n",
    "<i>Hover over each pie segment for more information</i>\n",
    "\"\"\"\n",
    "subtitle = Div(width=800, text=html)\n",
    "show(column(subtitle, row(p1, p2)))\n",
    "\n",
    "#show(p2)\n",
    "#show(row(p1, p2))\n"
   ]
  },
  {
   "cell_type": "code",
   "execution_count": 9,
   "metadata": {},
   "outputs": [],
   "source": [
    "# #histogram of degrees for all nodes\n",
    "# degree_list = [G.degree[n] for n in G.nodes(data=False)]\n",
    "\n",
    "# plt.hist(degree_list, label=\"Degrees\")\n",
    "# plt.legend(loc='upper right')\n",
    "\n",
    "# #histogram of weights for all nodes\n",
    "# weights_list = [d['weight'] for u,v,d in G.edges(data=True)]\n",
    "\n",
    "# plt.hist(weights_list, label=\"Weights\")\n",
    "# plt.legend(loc='upper right')"
   ]
  },
  {
   "cell_type": "code",
   "execution_count": 10,
   "metadata": {},
   "outputs": [],
   "source": [
    "# from IPython.display import display, HTML\n",
    "# display(HTML(degree_df.head(10).to_html(index=False)))\n",
    "# display(HTML(degree_df.tail(10).sort_values(by='degree',ascending=True).to_html(index=False)))"
   ]
  },
  {
   "cell_type": "code",
   "execution_count": 11,
   "metadata": {},
   "outputs": [],
   "source": [
    "degree_df = pd.DataFrame([[n,v] for n,v in sorted(Gm.degree, key=lambda x: x[1], reverse=True)], columns=['city','degree'])\n"
   ]
  },
  {
   "cell_type": "code",
   "execution_count": 12,
   "metadata": {},
   "outputs": [
    {
     "name": "stdout",
     "output_type": "stream",
     "text": [
      "Paris - 7\n",
      "Kyiv - 6\n",
      "Frankfurt - 6\n",
      "Pamplona - 5\n",
      "Marseille - 5\n",
      "Sevastopol - 5\n",
      "Constantinople - 5\n",
      "Bucuresti - 5\n",
      "Wilno - 5\n",
      "Warszawa - 5\n"
     ]
    }
   ],
   "source": [
    "# Top-10 cities with high degree\n",
    "for index, row in degree_df.head(10).iterrows():\n",
    "    print('{} - {}'.format(row['city'],row['degree']))"
   ]
  },
  {
   "cell_type": "code",
   "execution_count": 13,
   "metadata": {},
   "outputs": [
    {
     "name": "stdout",
     "output_type": "stream",
     "text": [
      "Edinburgh - 1\n",
      "Lisboa - 2\n",
      "Cadiz - 2\n",
      "Stockholm - 2\n",
      "Kobenhavn - 2\n",
      "Smolensk - 3\n",
      "Riga - 3\n",
      "Palermo - 3\n",
      "Danzig - 3\n",
      "Brindisi - 3\n"
     ]
    }
   ],
   "source": [
    "# Top-10 cities with low degree\n",
    "for index, row in degree_df.tail(10).sort_values(by='degree',ascending=True).iterrows():\n",
    "    print('{} - {}'.format(row['city'],row['degree']))"
   ]
  },
  {
   "cell_type": "markdown",
   "metadata": {},
   "source": [
    "### Basic Stats"
   ]
  },
  {
   "cell_type": "code",
   "execution_count": 14,
   "metadata": {},
   "outputs": [
    {
     "data": {
      "text/plain": [
       "72.3404255319149"
      ]
     },
     "execution_count": 14,
     "metadata": {},
     "output_type": "execute_result"
    }
   ],
   "source": [
    "# fraction of nodes with degree < 5\n",
    "len(degree_df[degree_df.degree<5])/len(degree_df)*100"
   ]
  },
  {
   "cell_type": "code",
   "execution_count": 15,
   "metadata": {},
   "outputs": [
    {
     "data": {
      "text/plain": [
       "40.42553191489361"
      ]
     },
     "execution_count": 15,
     "metadata": {},
     "output_type": "execute_result"
    }
   ],
   "source": [
    "# fraction of nodes with degree < 4\n",
    "len(degree_df[degree_df.degree<4])/len(degree_df)*100"
   ]
  },
  {
   "cell_type": "code",
   "execution_count": 16,
   "metadata": {},
   "outputs": [
    {
     "data": {
      "text/plain": [
       "10.638297872340425"
      ]
     },
     "execution_count": 16,
     "metadata": {},
     "output_type": "execute_result"
    }
   ],
   "source": [
    "# fraction of nodes with degree < 3\n",
    "len(degree_df[degree_df.degree<3])/len(degree_df)*100"
   ]
  },
  {
   "cell_type": "code",
   "execution_count": 17,
   "metadata": {},
   "outputs": [
    {
     "data": {
      "text/plain": [
       "5"
      ]
     },
     "execution_count": 17,
     "metadata": {},
     "output_type": "execute_result"
    }
   ],
   "source": [
    "nx.radius(G)"
   ]
  },
  {
   "cell_type": "code",
   "execution_count": 18,
   "metadata": {},
   "outputs": [
    {
     "data": {
      "text/plain": [
       "9"
      ]
     },
     "execution_count": 18,
     "metadata": {},
     "output_type": "execute_result"
    }
   ],
   "source": [
    "nx.diameter(G)"
   ]
  },
  {
   "cell_type": "code",
   "execution_count": 19,
   "metadata": {},
   "outputs": [
    {
     "data": {
      "text/plain": [
       "['Berlin', 'Venezia', 'Munchen']"
      ]
     },
     "execution_count": 19,
     "metadata": {},
     "output_type": "execute_result"
    }
   ],
   "source": [
    "nx.center(G)"
   ]
  },
  {
   "cell_type": "code",
   "execution_count": 20,
   "metadata": {},
   "outputs": [
    {
     "data": {
      "text/plain": [
       "['Lisboa', 'Cadiz', 'Edinburgh', 'Erzurum', 'Sochi', 'Rostov', 'Moskva']"
      ]
     },
     "execution_count": 20,
     "metadata": {},
     "output_type": "execute_result"
    }
   ],
   "source": [
    "nx.periphery(G)"
   ]
  },
  {
   "cell_type": "code",
   "execution_count": 21,
   "metadata": {},
   "outputs": [
    {
     "name": "stdout",
     "output_type": "stream",
     "text": [
      "{\n",
      "    \"Lisboa\": 9,\n",
      "    \"Cadiz\": 9,\n",
      "    \"Edinburgh\": 9,\n",
      "    \"Erzurum\": 9,\n",
      "    \"Sochi\": 9,\n",
      "    \"Rostov\": 9,\n",
      "    \"Moskva\": 9,\n",
      "    \"Madrid\": 8,\n",
      "    \"Barcelona\": 8,\n",
      "    \"Brest\": 8,\n",
      "    \"Dieppe\": 8,\n",
      "    \"London\": 8,\n",
      "    \"Angora\": 8,\n",
      "    \"Sevastopol\": 8,\n",
      "    \"Constantinople\": 8,\n",
      "    \"Bucuresti\": 8,\n",
      "    \"Kharkov\": 8,\n",
      "    \"Smolensk\": 8,\n",
      "    \"Petrograd\": 8,\n",
      "    \"Sofia\": 8,\n",
      "    \"Pamplona\": 7,\n",
      "    \"Marseille\": 7,\n",
      "    \"Paris\": 7,\n",
      "    \"Bruxelles\": 7,\n",
      "    \"Amsterdam\": 7,\n",
      "    \"Smyrna\": 7,\n",
      "    \"Kyiv\": 7,\n",
      "    \"Wilno\": 7,\n",
      "    \"Budapest\": 7,\n",
      "    \"Riga\": 7,\n",
      "    \"Stockholm\": 7,\n",
      "    \"Palermo\": 7,\n",
      "    \"Athina\": 7,\n",
      "    \"Kobenhavn\": 7,\n",
      "    \"Sarajevo\": 7,\n",
      "    \"Brindisi\": 7,\n",
      "    \"Warszawa\": 6,\n",
      "    \"Danzig\": 6,\n",
      "    \"Essen\": 6,\n",
      "    \"Wien\": 6,\n",
      "    \"Zagrab\": 6,\n",
      "    \"Roma\": 6,\n",
      "    \"Frankfurt\": 6,\n",
      "    \"Zurich\": 6,\n",
      "    \"Berlin\": 5,\n",
      "    \"Venezia\": 5,\n",
      "    \"Munchen\": 5\n",
      "}\n"
     ]
    }
   ],
   "source": [
    "ecc = nx.eccentricity(G)\n",
    "ecc = dict(sorted(ecc.items(), key=lambda x: x[1], reverse=True))\n",
    "print(json.dumps(ecc, indent=4))"
   ]
  },
  {
   "cell_type": "code",
   "execution_count": 22,
   "metadata": {},
   "outputs": [
    {
     "name": "stdout",
     "output_type": "stream",
     "text": [
      "Lisboa-Madrid-Barcelona-Marseille-Roma-Palermo-Smyrna-Angora-Erzurum-Sochi\n",
      "Lisboa-Madrid-Barcelona-Marseille-Roma-Palermo-Smyrna-Constantinople-Sevastopol-Rostov\n",
      "Lisboa-Madrid-Pamplona-Paris-Frankfurt-Essen-Kobenhavn-Stockholm-Petrograd-Moskva\n",
      "Cadiz-Madrid-Barcelona-Marseille-Roma-Palermo-Smyrna-Angora-Erzurum-Sochi\n",
      "Cadiz-Madrid-Barcelona-Marseille-Roma-Palermo-Smyrna-Constantinople-Sevastopol-Rostov\n",
      "Cadiz-Madrid-Pamplona-Paris-Frankfurt-Essen-Kobenhavn-Stockholm-Petrograd-Moskva\n",
      "Edinburgh-London-Dieppe-Paris-Marseille-Roma-Palermo-Smyrna-Angora-Erzurum\n",
      "Edinburgh-London-Amsterdam-Essen-Berlin-Warszawa-Kyiv-Bucuresti-Sevastopol-Sochi\n",
      "Erzurum-Angora-Smyrna-Palermo-Roma-Marseille-Paris-Dieppe-London-Edinburgh\n",
      "Sochi-Erzurum-Angora-Smyrna-Palermo-Roma-Marseille-Barcelona-Madrid-Lisboa\n",
      "Sochi-Erzurum-Angora-Smyrna-Palermo-Roma-Marseille-Barcelona-Madrid-Cadiz\n",
      "Sochi-Sevastopol-Bucuresti-Budapest-Wien-Berlin-Essen-Amsterdam-London-Edinburgh\n",
      "Rostov-Sevastopol-Constantinople-Smyrna-Palermo-Roma-Marseille-Barcelona-Madrid-Lisboa\n",
      "Rostov-Sevastopol-Constantinople-Smyrna-Palermo-Roma-Marseille-Barcelona-Madrid-Cadiz\n",
      "Moskva-Kharkov-Kyiv-Warszawa-Berlin-Frankfurt-Paris-Pamplona-Madrid-Lisboa\n",
      "Moskva-Kharkov-Kyiv-Warszawa-Berlin-Frankfurt-Paris-Pamplona-Madrid-Cadiz\n"
     ]
    }
   ],
   "source": [
    "# listing paths with length as diameter from all peripheries\n",
    "diameter = nx.diameter(G)\n",
    "for n in nx.periphery(G):\n",
    "    paths = nx.shortest_path(G,source=n)\n",
    "    for k,v in paths.items():\n",
    "        if(len(v)-1==diameter):\n",
    "            print(\"-\".join(v))"
   ]
  },
  {
   "cell_type": "markdown",
   "metadata": {},
   "source": [
    "### Destination Card Points Distribution"
   ]
  },
  {
   "cell_type": "code",
   "execution_count": 23,
   "metadata": {},
   "outputs": [],
   "source": [
    "# construct destination card points list\n",
    "card_points_list=list()\n",
    "with open(destinations_path) as f:\n",
    "    for line in f:\n",
    "        source, destination, card_points = pattern.findall(line)\n",
    "        card_points=int(card_points)\n",
    "        card_points_list.append(card_points)\n",
    "\n",
    "## bar chart\n",
    "\n",
    "from collections import Counter \n",
    "#card_points = [row['card_points'] for idx,row in destinations_df.iterrows()]\n",
    "col_count = Counter(card_points_list) \n",
    "\n",
    "from bokeh.plotting import figure, show, save\n",
    "from bokeh.io import output_file, output_notebook\n",
    "from bokeh.models import HoverTool\n",
    "from bokeh.layouts import row, column\n",
    "from bokeh.models import Div\n",
    "\n",
    "#output_notebook()\n",
    "output_file(output_dir + \"destination_card_points_dist.html\")\n",
    "\n",
    "labels = [str(key) for key,value in sorted(col_count.items())]\n",
    "values = [value for key,value in sorted(col_count.items())]\n",
    "pct_share = [round(value/len(card_points_list)*100,2) for key,value in sorted(col_count.items())]\n",
    "source = ColumnDataSource(data = dict(labels = labels, values= values, pct_share=pct_share))\n",
    "                          \n",
    "p = figure(x_range=labels, plot_height=350, title=None)\n",
    "p.vbar(x=\"labels\", top=\"values\", width=0.9, source=source)\n",
    "\n",
    "p.xgrid.grid_line_color = None\n",
    "p.y_range.start = 0\n",
    "p.add_tools(HoverTool(tooltips=[(\"card points\",\"@labels\"),(\"count\",\"@values (@pct_share%)\")]))                          \n",
    "\n",
    "#show(p)\n",
    "\n",
    "# Add a title for the entire visualization using Div\n",
    "html = \"\"\"<h3>Chart 3: Destination Card Points Distribution</h3>\n",
    "<i>Hover over each bar for more information</i>\n",
    "\"\"\"\n",
    "subtitle = Div(width=800, text=html)\n",
    "show(column(subtitle, p))\n"
   ]
  },
  {
   "cell_type": "markdown",
   "metadata": {},
   "source": [
    "### Importance of certain cities"
   ]
  },
  {
   "cell_type": "code",
   "execution_count": 24,
   "metadata": {},
   "outputs": [
    {
     "name": "stdout",
     "output_type": "stream",
     "text": [
      "Paris - 0.1522\n",
      "Kyiv - 0.1304\n",
      "Frankfurt - 0.1304\n",
      "Pamplona - 0.1087\n",
      "Marseille - 0.1087\n"
     ]
    }
   ],
   "source": [
    "# degree centrality\n",
    "dc = nx.degree_centrality(G)\n",
    "top_dc = dict(sorted(dc.items(), key=lambda x: x[1], reverse=True)[:5])\n",
    "\n",
    "for k,v in top_dc.items():\n",
    "    print('{} - {}'.format(k,round(v,4)))"
   ]
  },
  {
   "cell_type": "code",
   "execution_count": 25,
   "metadata": {},
   "outputs": [
    {
     "name": "stdout",
     "output_type": "stream",
     "text": [
      "Wien - 0.1201\n",
      "Munchen - 0.1173\n",
      "Budapest - 0.117\n",
      "Zagrab - 0.1168\n",
      "Venezia - 0.1159\n"
     ]
    }
   ],
   "source": [
    "# closeness centrality\n",
    "cc = nx.closeness_centrality(G, distance='weight')\n",
    "top_cc = dict(sorted(cc.items(), key=lambda x: x[1], reverse=True)[:5])\n",
    "\n",
    "for k,v in top_cc.items():\n",
    "    print('{} - {}'.format(k,round(v,4)))"
   ]
  },
  {
   "cell_type": "code",
   "execution_count": 26,
   "metadata": {},
   "outputs": [
    {
     "name": "stdout",
     "output_type": "stream",
     "text": [
      "Frankfurt - 0.2061\n",
      "Wien - 0.1855\n",
      "Budapest - 0.1769\n",
      "Venezia - 0.1752\n",
      "Munchen - 0.1621\n"
     ]
    }
   ],
   "source": [
    "# betweenness centrality\n",
    "bc = nx.betweenness_centrality(G, weight='weight')\n",
    "top_bc = dict(sorted(bc.items(), key=lambda x: x[1], reverse=True)[:5])\n",
    "#print(json.dumps(top_bc, indent=4))\n",
    "\n",
    "for k,v in top_bc.items():\n",
    "    print('{} - {}'.format(k,round(v,4)))"
   ]
  },
  {
   "cell_type": "code",
   "execution_count": 27,
   "metadata": {},
   "outputs": [
    {
     "name": "stdout",
     "output_type": "stream",
     "text": [
      "{\n",
      "    \"Lisboa\": 1.0,\n",
      "    \"Cadiz\": 1.0,\n",
      "    \"Barcelona\": 0.6666666666666666,\n",
      "    \"Brest\": 0.6666666666666666,\n",
      "    \"Sochi\": 0.6666666666666666,\n",
      "    \"Bruxelles\": 0.5,\n",
      "    \"Pamplona\": 0.4,\n",
      "    \"Madrid\": 0.3333333333333333,\n",
      "    \"Dieppe\": 0.3333333333333333,\n",
      "    \"Amsterdam\": 0.3333333333333333,\n",
      "    \"Erzurum\": 0.3333333333333333,\n",
      "    \"Angora\": 0.3333333333333333,\n",
      "    \"Rostov\": 0.3333333333333333,\n",
      "    \"Smolensk\": 0.3333333333333333,\n",
      "    \"Riga\": 0.3333333333333333,\n",
      "    \"Palermo\": 0.3333333333333333,\n",
      "    \"Sofia\": 0.3333333333333333,\n",
      "    \"Danzig\": 0.3333333333333333,\n",
      "    \"Essen\": 0.3333333333333333,\n",
      "    \"Zagrab\": 0.3333333333333333,\n",
      "    \"Sarajevo\": 0.3333333333333333,\n",
      "    \"Brindisi\": 0.3333333333333333,\n",
      "    \"Zurich\": 0.3333333333333333,\n",
      "    \"Marseille\": 0.3,\n",
      "    \"Sevastopol\": 0.3,\n",
      "    \"Constantinople\": 0.3,\n",
      "    \"Bucuresti\": 0.3,\n",
      "    \"Wilno\": 0.3,\n",
      "    \"Warszawa\": 0.3,\n",
      "    \"Budapest\": 0.3,\n",
      "    \"Berlin\": 0.3,\n",
      "    \"Paris\": 0.2857142857142857,\n",
      "    \"Frankfurt\": 0.26666666666666666,\n",
      "    \"Kyiv\": 0.2,\n",
      "    \"Wien\": 0.2,\n",
      "    \"Smyrna\": 0.16666666666666666,\n",
      "    \"Petrograd\": 0.16666666666666666,\n",
      "    \"Athina\": 0.16666666666666666,\n",
      "    \"Roma\": 0.16666666666666666,\n",
      "    \"Venezia\": 0.16666666666666666,\n",
      "    \"Munchen\": 0.16666666666666666,\n",
      "    \"London\": 0,\n",
      "    \"Edinburgh\": 0,\n",
      "    \"Kharkov\": 0,\n",
      "    \"Moskva\": 0,\n",
      "    \"Stockholm\": 0,\n",
      "    \"Kobenhavn\": 0\n",
      "}\n"
     ]
    }
   ],
   "source": [
    "# convert multigraph to simple graph            \n",
    "G = nx.Graph(Gm)\n",
    "\n",
    "# node clustering co-efficient for each city\n",
    "# definition: http://wandora.org/wiki/Clustering_coefficient\n",
    "ccoef = nx.clustering(G)\n",
    "ccoef = dict(sorted(ccoef.items(), key=lambda x: x[1], reverse=True))\n",
    "print(json.dumps(ccoef, indent=4))"
   ]
  },
  {
   "cell_type": "code",
   "execution_count": 28,
   "metadata": {},
   "outputs": [
    {
     "data": {
      "text/html": [
       "<div>\n",
       "<style scoped>\n",
       "    .dataframe tbody tr th:only-of-type {\n",
       "        vertical-align: middle;\n",
       "    }\n",
       "\n",
       "    .dataframe tbody tr th {\n",
       "        vertical-align: top;\n",
       "    }\n",
       "\n",
       "    .dataframe thead th {\n",
       "        text-align: right;\n",
       "    }\n",
       "</style>\n",
       "<table border=\"1\" class=\"dataframe\">\n",
       "  <thead>\n",
       "    <tr style=\"text-align: right;\">\n",
       "      <th></th>\n",
       "      <th>city</th>\n",
       "      <th>avg_connectivity_change</th>\n",
       "      <th>global_efficiency_change</th>\n",
       "      <th>local_efficiency_change</th>\n",
       "    </tr>\n",
       "  </thead>\n",
       "  <tbody>\n",
       "    <tr>\n",
       "      <th>0</th>\n",
       "      <td>Lisboa</td>\n",
       "      <td>2.81</td>\n",
       "      <td>1.43</td>\n",
       "      <td>-9.99</td>\n",
       "    </tr>\n",
       "    <tr>\n",
       "      <th>1</th>\n",
       "      <td>Cadiz</td>\n",
       "      <td>2.81</td>\n",
       "      <td>1.43</td>\n",
       "      <td>-9.99</td>\n",
       "    </tr>\n",
       "    <tr>\n",
       "      <th>2</th>\n",
       "      <td>Madrid</td>\n",
       "      <td>-1.60</td>\n",
       "      <td>-4.30</td>\n",
       "      <td>-10.51</td>\n",
       "    </tr>\n",
       "    <tr>\n",
       "      <th>3</th>\n",
       "      <td>Barcelona</td>\n",
       "      <td>0.00</td>\n",
       "      <td>0.41</td>\n",
       "      <td>-4.36</td>\n",
       "    </tr>\n",
       "    <tr>\n",
       "      <th>4</th>\n",
       "      <td>Pamplona</td>\n",
       "      <td>-7.08</td>\n",
       "      <td>-1.03</td>\n",
       "      <td>-8.47</td>\n",
       "    </tr>\n",
       "  </tbody>\n",
       "</table>\n",
       "</div>"
      ],
      "text/plain": [
       "        city  avg_connectivity_change  global_efficiency_change  \\\n",
       "0  Lisboa     2.81                     1.43                       \n",
       "1  Cadiz      2.81                     1.43                       \n",
       "2  Madrid    -1.60                    -4.30                       \n",
       "3  Barcelona  0.00                     0.41                       \n",
       "4  Pamplona  -7.08                    -1.03                       \n",
       "\n",
       "   local_efficiency_change  \n",
       "0 -9.99                     \n",
       "1 -9.99                     \n",
       "2 -10.51                    \n",
       "3 -4.36                     \n",
       "4 -8.47                     "
      ]
     },
     "execution_count": 28,
     "metadata": {},
     "output_type": "execute_result"
    }
   ],
   "source": [
    "# measuring each node importance by change in connectivity, efficiency\n",
    "\n",
    "G_avg_node_connectivity = nx.average_node_connectivity(G)\n",
    "G_avg_sp_length = nx.average_shortest_path_length(G, weight='weight') \n",
    "G_global_efficiency = nx.global_efficiency(G)\n",
    "G_local_efficiency = nx.local_efficiency(G)\n",
    "\n",
    "temp=list()\n",
    "for u,d in G.nodes(data=True):\n",
    "    H = nx.Graph(G)\n",
    "    H.remove_node(u)\n",
    "    H_avg_node_connectivity = nx.average_node_connectivity(H)\n",
    "    #H_avg_sp_length = nx.average_shortest_path_length(H, weight='weight') \n",
    "    H_global_efficiency = nx.global_efficiency(H)\n",
    "    H_local_efficiency = nx.local_efficiency(H)\n",
    "    connectivity_change = round((H_avg_node_connectivity-G_avg_node_connectivity)/G_avg_node_connectivity * 100, 2)\n",
    "    global_efficiency_change = round((H_global_efficiency-G_global_efficiency)/G_global_efficiency*100, 2)\n",
    "    local_efficiency_change = round((H_local_efficiency-G_local_efficiency)/G_local_efficiency*100,2)\n",
    "    temp.append((u,connectivity_change,global_efficiency_change,local_efficiency_change))\n",
    "\n",
    "node_importance_df = pd.DataFrame.from_records(temp, columns=['city','avg_connectivity_change',\n",
    "                                                              'global_efficiency_change','local_efficiency_change'])\n",
    "del temp\n",
    "\n",
    "node_importance_df.head()"
   ]
  },
  {
   "cell_type": "markdown",
   "metadata": {},
   "source": [
    "### Importance of certain route segments"
   ]
  },
  {
   "cell_type": "code",
   "execution_count": 29,
   "metadata": {},
   "outputs": [
    {
     "name": "stdout",
     "output_type": "stream",
     "text": [
      "('Budapest', 'Wien') - 0.14287916831857628\n",
      "('Zagrab', 'Venezia') - 0.1316726135412537\n",
      "('Wien', 'Munchen') - 0.11743976036297961\n",
      "('Frankfurt', 'Munchen') - 0.11262499449363465\n",
      "('Bucuresti', 'Budapest') - 0.11036518215056604\n"
     ]
    }
   ],
   "source": [
    "# edge-betweenness centrality\n",
    "ebc = nx.edge_betweenness_centrality(G,weight='weight')\n",
    "top_ebc = dict(sorted(ebc.items(), key=lambda x: x[1], reverse=True)[:5])\n",
    "\n",
    "for k,v in top_ebc.items():\n",
    "    print('{} - {}'.format(k,v))"
   ]
  },
  {
   "cell_type": "code",
   "execution_count": 30,
   "metadata": {},
   "outputs": [
    {
     "data": {
      "text/html": [
       "<div>\n",
       "<style scoped>\n",
       "    .dataframe tbody tr th:only-of-type {\n",
       "        vertical-align: middle;\n",
       "    }\n",
       "\n",
       "    .dataframe tbody tr th {\n",
       "        vertical-align: top;\n",
       "    }\n",
       "\n",
       "    .dataframe thead th {\n",
       "        text-align: right;\n",
       "    }\n",
       "</style>\n",
       "<table border=\"1\" class=\"dataframe\">\n",
       "  <thead>\n",
       "    <tr style=\"text-align: right;\">\n",
       "      <th></th>\n",
       "      <th>segment</th>\n",
       "      <th>avg_connectivity_change</th>\n",
       "      <th>global_efficiency_change</th>\n",
       "      <th>local_efficiency_change</th>\n",
       "    </tr>\n",
       "  </thead>\n",
       "  <tbody>\n",
       "    <tr>\n",
       "      <th>0</th>\n",
       "      <td>Lisboa-Cadiz</td>\n",
       "      <td>-0.10</td>\n",
       "      <td>-0.14</td>\n",
       "      <td>-12.89</td>\n",
       "    </tr>\n",
       "    <tr>\n",
       "      <th>1</th>\n",
       "      <td>Lisboa-Madrid</td>\n",
       "      <td>-0.10</td>\n",
       "      <td>-0.57</td>\n",
       "      <td>-11.90</td>\n",
       "    </tr>\n",
       "    <tr>\n",
       "      <th>2</th>\n",
       "      <td>Cadiz-Madrid</td>\n",
       "      <td>-0.10</td>\n",
       "      <td>-0.57</td>\n",
       "      <td>-11.90</td>\n",
       "    </tr>\n",
       "    <tr>\n",
       "      <th>3</th>\n",
       "      <td>Madrid-Barcelona</td>\n",
       "      <td>-1.41</td>\n",
       "      <td>-0.23</td>\n",
       "      <td>-0.25</td>\n",
       "    </tr>\n",
       "    <tr>\n",
       "      <th>4</th>\n",
       "      <td>Madrid-Pamplona</td>\n",
       "      <td>-1.41</td>\n",
       "      <td>-0.89</td>\n",
       "      <td>-2.50</td>\n",
       "    </tr>\n",
       "  </tbody>\n",
       "</table>\n",
       "</div>"
      ],
      "text/plain": [
       "            segment  avg_connectivity_change  global_efficiency_change  \\\n",
       "0  Lisboa-Cadiz     -0.10                    -0.14                       \n",
       "1  Lisboa-Madrid    -0.10                    -0.57                       \n",
       "2  Cadiz-Madrid     -0.10                    -0.57                       \n",
       "3  Madrid-Barcelona -1.41                    -0.23                       \n",
       "4  Madrid-Pamplona  -1.41                    -0.89                       \n",
       "\n",
       "   local_efficiency_change  \n",
       "0 -12.89                    \n",
       "1 -11.90                    \n",
       "2 -11.90                    \n",
       "3 -0.25                     \n",
       "4 -2.50                     "
      ]
     },
     "execution_count": 30,
     "metadata": {},
     "output_type": "execute_result"
    }
   ],
   "source": [
    "# measuring each edge importance by change in connectivity, efficiency\n",
    "temp=list()\n",
    "for u,v,d in G.edges(data=True):\n",
    "    H = nx.Graph(G)\n",
    "    H.remove_edge(u,v)\n",
    "    H_avg_node_connectivity = nx.average_node_connectivity(H)\n",
    "    H_global_efficiency = nx.global_efficiency(H)\n",
    "    H_local_efficiency = nx.local_efficiency(H)\n",
    "    connectivity_change = round((H_avg_node_connectivity-G_avg_node_connectivity)/G_avg_node_connectivity * 100, 2)\n",
    "    global_efficiency_change = round((H_global_efficiency-G_global_efficiency)/G_global_efficiency*100, 2)\n",
    "    local_efficiency_change = round((H_local_efficiency-G_local_efficiency)/G_local_efficiency*100,2)\n",
    "    temp.append(('{}-{}'.format(u,v),connectivity_change,global_efficiency_change,local_efficiency_change))\n",
    "\n",
    "edge_importance_df = pd.DataFrame.from_records(temp, columns=['segment','avg_connectivity_change',\n",
    "                                                              'global_efficiency_change','local_efficiency_change'])\n",
    "del temp\n",
    "\n",
    "edge_importance_df.head()"
   ]
  },
  {
   "cell_type": "markdown",
   "metadata": {},
   "source": [
    "### Route Profitability & Alternate Scoring Strategies"
   ]
  },
  {
   "cell_type": "code",
   "execution_count": 31,
   "metadata": {},
   "outputs": [],
   "source": [
    "# construct shortest paths of destinations\n",
    "temp=list()\n",
    "with open(destinations_path) as f:\n",
    "    for line in f:\n",
    "        source, destination, card_points = pattern.findall(line)\n",
    "        card_points=int(card_points)\n",
    "        p1=list()\n",
    "        points1=0\n",
    "        distance1=0\n",
    "        length1=0\n",
    "        for p in nx.all_shortest_paths(G,source,destination,weight='weight'):\n",
    "            _points=points_of_path(G,p)\n",
    "            if(_points>points1):\n",
    "                points1=_points\n",
    "                distance1=distance_of_path(G,p)\n",
    "                p1=p\n",
    "                length1=len(p)\n",
    "        total_points=card_points+points1\n",
    "        temp.append((source,destination,card_points,length1,distance1,total_points,'-'.join(p1)))\n",
    "        \n",
    "sp_df = pd.DataFrame.from_records(temp, columns=['source','destination','card_points',\n",
    "                                                           'sp_length','sp_cost','sp_total_points','sp_path'])\n",
    "del temp\n",
    "\n",
    "#  calculate points-per-capita\n",
    "sp_df['sp_points_per_capita'] = sp_df.apply(lambda row: round(row['sp_total_points']/row['sp_cost'],2), axis=1)\n",
    "\n",
    "# connectivity\n",
    "sp_df['connectivity'] = sp_df.apply(lambda row: nx.edge_connectivity(G,row['source'],row['destination']), axis=1)"
   ]
  },
  {
   "cell_type": "code",
   "execution_count": 32,
   "metadata": {},
   "outputs": [
    {
     "data": {
      "text/html": [
       "<table border=\"1\" class=\"dataframe\">\n",
       "  <thead>\n",
       "    <tr style=\"text-align: right;\">\n",
       "      <th>source</th>\n",
       "      <th>destination</th>\n",
       "      <th>card_points</th>\n",
       "      <th>sp_length</th>\n",
       "      <th>sp_cost</th>\n",
       "      <th>sp_total_points</th>\n",
       "      <th>sp_path</th>\n",
       "      <th>sp_points_per_capita</th>\n",
       "      <th>connectivity</th>\n",
       "    </tr>\n",
       "  </thead>\n",
       "  <tbody>\n",
       "    <tr>\n",
       "      <td>Palermo</td>\n",
       "      <td>Moskva</td>\n",
       "      <td>20</td>\n",
       "      <td>7</td>\n",
       "      <td>20</td>\n",
       "      <td>54</td>\n",
       "      <td>Palermo-Smyrna-Constantinople-Bucuresti-Kyiv-Smolensk-Moskva</td>\n",
       "      <td>2.70</td>\n",
       "      <td>3</td>\n",
       "    </tr>\n",
       "    <tr>\n",
       "      <td>Kobenhavn</td>\n",
       "      <td>Erzurum</td>\n",
       "      <td>21</td>\n",
       "      <td>8</td>\n",
       "      <td>21</td>\n",
       "      <td>53</td>\n",
       "      <td>Kobenhavn-Essen-Berlin-Wien-Budapest-Bucuresti-Sevastopol-Erzurum</td>\n",
       "      <td>2.52</td>\n",
       "      <td>2</td>\n",
       "    </tr>\n",
       "    <tr>\n",
       "      <td>Cadiz</td>\n",
       "      <td>Stockholm</td>\n",
       "      <td>21</td>\n",
       "      <td>8</td>\n",
       "      <td>21</td>\n",
       "      <td>50</td>\n",
       "      <td>Cadiz-Madrid-Pamplona-Paris-Frankfurt-Essen-Kobenhavn-Stockholm</td>\n",
       "      <td>2.38</td>\n",
       "      <td>2</td>\n",
       "    </tr>\n",
       "    <tr>\n",
       "      <td>Brest</td>\n",
       "      <td>Petrograd</td>\n",
       "      <td>20</td>\n",
       "      <td>7</td>\n",
       "      <td>20</td>\n",
       "      <td>50</td>\n",
       "      <td>Brest-Paris-Frankfurt-Berlin-Warszawa-Wilno-Petrograd</td>\n",
       "      <td>2.50</td>\n",
       "      <td>3</td>\n",
       "    </tr>\n",
       "    <tr>\n",
       "      <td>Lisboa</td>\n",
       "      <td>Danzig</td>\n",
       "      <td>20</td>\n",
       "      <td>7</td>\n",
       "      <td>20</td>\n",
       "      <td>50</td>\n",
       "      <td>Lisboa-Madrid-Pamplona-Paris-Frankfurt-Berlin-Danzig</td>\n",
       "      <td>2.50</td>\n",
       "      <td>2</td>\n",
       "    </tr>\n",
       "  </tbody>\n",
       "</table>"
      ],
      "text/plain": [
       "<IPython.core.display.HTML object>"
      ]
     },
     "metadata": {},
     "output_type": "display_data"
    }
   ],
   "source": [
    "# sp_df.sort_values(['sp_total_points'],ascending=False).head(10)\n",
    "\n",
    "from IPython.display import display, HTML\n",
    "display(HTML(sp_df.sort_values(['sp_total_points'],ascending=False).head(5).to_html(index=False)))\n",
    "# display(HTML(degree_df.tail(10).sort_values(by='degree',ascending=True).to_html(index=False)))"
   ]
  },
  {
   "cell_type": "code",
   "execution_count": 33,
   "metadata": {},
   "outputs": [
    {
     "data": {
      "text/html": [
       "<table border=\"1\" class=\"dataframe\">\n",
       "  <thead>\n",
       "    <tr style=\"text-align: right;\">\n",
       "      <th>path</th>\n",
       "      <th>path_length</th>\n",
       "      <th>path_cost</th>\n",
       "      <th>path_total_points</th>\n",
       "      <th>path_points_per_capita</th>\n",
       "    </tr>\n",
       "  </thead>\n",
       "  <tbody>\n",
       "    <tr>\n",
       "      <td>[Palermo, Smyrna, Constantinople, Sevastopol, Rostov, Kharkov, Moskva]</td>\n",
       "      <td>7</td>\n",
       "      <td>22</td>\n",
       "      <td>60</td>\n",
       "      <td>2.73</td>\n",
       "    </tr>\n",
       "    <tr>\n",
       "      <td>[Palermo, Smyrna, Constantinople, Bucuresti, Kyiv, Smolensk, Moskva]</td>\n",
       "      <td>7</td>\n",
       "      <td>20</td>\n",
       "      <td>54</td>\n",
       "      <td>2.70</td>\n",
       "    </tr>\n",
       "    <tr>\n",
       "      <td>[Palermo, Smyrna, Constantinople, Bucuresti, Kyiv, Kharkov, Moskva]</td>\n",
       "      <td>7</td>\n",
       "      <td>23</td>\n",
       "      <td>62</td>\n",
       "      <td>2.70</td>\n",
       "    </tr>\n",
       "    <tr>\n",
       "      <td>[Palermo, Smyrna, Constantinople, Bucuresti, Budapest, Kyiv, Kharkov, Moskva]</td>\n",
       "      <td>8</td>\n",
       "      <td>29</td>\n",
       "      <td>77</td>\n",
       "      <td>2.66</td>\n",
       "    </tr>\n",
       "    <tr>\n",
       "      <td>[Palermo, Smyrna, Athina, Sarajevo, Budapest, Kyiv, Kharkov, Moskva]</td>\n",
       "      <td>8</td>\n",
       "      <td>29</td>\n",
       "      <td>77</td>\n",
       "      <td>2.66</td>\n",
       "    </tr>\n",
       "  </tbody>\n",
       "</table>"
      ],
      "text/plain": [
       "<IPython.core.display.HTML object>"
      ]
     },
     "metadata": {},
     "output_type": "display_data"
    }
   ],
   "source": [
    "# compare alternate paths between given cities\n",
    "temp = list()\n",
    "u = 'Palermo'\n",
    "v = 'Moskva'\n",
    "cutoff = nx.shortest_path_length(G, u, v) + 2\n",
    "paths = alternate_scoring_paths_with_cutoff(G, u, v, cutoff)\n",
    "for p in paths:\n",
    "    length1 = len(p)\n",
    "    cost1 = distance_of_path(G, p)\n",
    "    points1 = int(sp_df[(sp_df['source']==u) & (sp_df['destination']==v)]['card_points'])\n",
    "    points2 = points_of_path(G, p)\n",
    "    total_points = points1 + points2\n",
    "    per_capita=round(total_points/cost1,2)\n",
    "    temp.append((p,length1,cost1,total_points,per_capita))\n",
    "\n",
    "temp_df = pd.DataFrame.from_records(temp,columns=['path','path_length','path_cost','path_total_points','path_points_per_capita'])\n",
    "del temp\n",
    "\n",
    "# temp_df.sort_values(['path_points_per_capita'],ascending=False).head(5)\n",
    "display(HTML(temp_df.sort_values(['path_points_per_capita'],ascending=False).head(5).to_html(index=False)))"
   ]
  },
  {
   "cell_type": "code",
   "execution_count": 34,
   "metadata": {},
   "outputs": [
    {
     "data": {
      "image/png": "[encoded data removed]",
      "text/plain": [
       "<Figure size 864x360 with 2 Axes>"
      ]
     },
     "metadata": {
      "needs_background": "light"
     },
     "output_type": "display_data"
    }
   ],
   "source": [
    "#histogram of all points for all alternate paths\n",
    "\n",
    "fig = plt.figure(figsize=(12,5))\n",
    "\n",
    "plt.subplot(1, 2, 1)\n",
    "plt.hist([temp_df['path_total_points']], label=\"Points\")\n",
    "plt.legend(loc='upper right')\n",
    "plt.title('Palermo-Moskva Alternate paths \\n Total Points distribution')\n",
    "\n",
    "plt.subplot(1, 2, 2)\n",
    "plt.hist([temp_df['path_cost']], label=\"Cost\")\n",
    "plt.legend(loc='upper right')\n",
    "plt.title('Palermo-Moskva Alternate paths \\n Cost for points distribution')\n",
    "\n",
    "plt.tight_layout()"
   ]
  },
  {
   "cell_type": "code",
   "execution_count": 35,
   "metadata": {},
   "outputs": [
    {
     "data": {
      "text/html": [
       "<div>\n",
       "<style scoped>\n",
       "    .dataframe tbody tr th:only-of-type {\n",
       "        vertical-align: middle;\n",
       "    }\n",
       "\n",
       "    .dataframe tbody tr th {\n",
       "        vertical-align: top;\n",
       "    }\n",
       "\n",
       "    .dataframe thead th {\n",
       "        text-align: right;\n",
       "    }\n",
       "</style>\n",
       "<table border=\"1\" class=\"dataframe\">\n",
       "  <thead>\n",
       "    <tr style=\"text-align: right;\">\n",
       "      <th></th>\n",
       "      <th>path</th>\n",
       "      <th>path_length</th>\n",
       "      <th>path_cost</th>\n",
       "      <th>path_total_points</th>\n",
       "      <th>path_points_per_capita</th>\n",
       "    </tr>\n",
       "  </thead>\n",
       "  <tbody>\n",
       "    <tr>\n",
       "      <th>23</th>\n",
       "      <td>[Palermo, Smyrna, Constantinople, Sevastopol, Bucuresti, Budapest, Kyiv, Kharkov, Moskva]</td>\n",
       "      <td>9</td>\n",
       "      <td>34</td>\n",
       "      <td>87</td>\n",
       "      <td>2.56</td>\n",
       "    </tr>\n",
       "    <tr>\n",
       "      <th>13</th>\n",
       "      <td>[Palermo, Smyrna, Angora, Constantinople, Bucuresti, Budapest, Kyiv, Kharkov, Moskva]</td>\n",
       "      <td>9</td>\n",
       "      <td>32</td>\n",
       "      <td>81</td>\n",
       "      <td>2.53</td>\n",
       "    </tr>\n",
       "    <tr>\n",
       "      <th>45</th>\n",
       "      <td>[Palermo, Smyrna, Constantinople, Bucuresti, Budapest, Kyiv, Wilno, Petrograd, Moskva]</td>\n",
       "      <td>9</td>\n",
       "      <td>31</td>\n",
       "      <td>79</td>\n",
       "      <td>2.55</td>\n",
       "    </tr>\n",
       "    <tr>\n",
       "      <th>74</th>\n",
       "      <td>[Palermo, Smyrna, Athina, Sarajevo, Zagrab, Budapest, Kyiv, Kharkov, Moskva]</td>\n",
       "      <td>9</td>\n",
       "      <td>31</td>\n",
       "      <td>79</td>\n",
       "      <td>2.55</td>\n",
       "    </tr>\n",
       "    <tr>\n",
       "      <th>71</th>\n",
       "      <td>[Palermo, Smyrna, Athina, Sarajevo, Budapest, Kyiv, Wilno, Petrograd, Moskva]</td>\n",
       "      <td>9</td>\n",
       "      <td>31</td>\n",
       "      <td>79</td>\n",
       "      <td>2.55</td>\n",
       "    </tr>\n",
       "  </tbody>\n",
       "</table>\n",
       "</div>"
      ],
      "text/plain": [
       "                                                                                         path  \\\n",
       "23  [Palermo, Smyrna, Constantinople, Sevastopol, Bucuresti, Budapest, Kyiv, Kharkov, Moskva]   \n",
       "13  [Palermo, Smyrna, Angora, Constantinople, Bucuresti, Budapest, Kyiv, Kharkov, Moskva]       \n",
       "45  [Palermo, Smyrna, Constantinople, Bucuresti, Budapest, Kyiv, Wilno, Petrograd, Moskva]      \n",
       "74  [Palermo, Smyrna, Athina, Sarajevo, Zagrab, Budapest, Kyiv, Kharkov, Moskva]                \n",
       "71  [Palermo, Smyrna, Athina, Sarajevo, Budapest, Kyiv, Wilno, Petrograd, Moskva]               \n",
       "\n",
       "    path_length  path_cost  path_total_points  path_points_per_capita  \n",
       "23  9            34         87                 2.56                    \n",
       "13  9            32         81                 2.53                    \n",
       "45  9            31         79                 2.55                    \n",
       "74  9            31         79                 2.55                    \n",
       "71  9            31         79                 2.55                    "
      ]
     },
     "execution_count": 35,
     "metadata": {},
     "output_type": "execute_result"
    }
   ],
   "source": [
    "temp_df.sort_values(['path_total_points'],ascending=False).head(5)"
   ]
  },
  {
   "cell_type": "code",
   "execution_count": 36,
   "metadata": {},
   "outputs": [
    {
     "data": {
      "text/html": [
       "<div>\n",
       "<style scoped>\n",
       "    .dataframe tbody tr th:only-of-type {\n",
       "        vertical-align: middle;\n",
       "    }\n",
       "\n",
       "    .dataframe tbody tr th {\n",
       "        vertical-align: top;\n",
       "    }\n",
       "\n",
       "    .dataframe thead th {\n",
       "        text-align: right;\n",
       "    }\n",
       "</style>\n",
       "<table border=\"1\" class=\"dataframe\">\n",
       "  <thead>\n",
       "    <tr style=\"text-align: right;\">\n",
       "      <th></th>\n",
       "      <th>path</th>\n",
       "      <th>path_length</th>\n",
       "      <th>path_cost</th>\n",
       "      <th>path_total_points</th>\n",
       "      <th>path_points_per_capita</th>\n",
       "    </tr>\n",
       "  </thead>\n",
       "  <tbody>\n",
       "    <tr>\n",
       "      <th>29</th>\n",
       "      <td>[Palermo, Smyrna, Constantinople, Sevastopol, Rostov, Kharkov, Moskva]</td>\n",
       "      <td>7</td>\n",
       "      <td>22</td>\n",
       "      <td>60</td>\n",
       "      <td>2.73</td>\n",
       "    </tr>\n",
       "    <tr>\n",
       "      <th>47</th>\n",
       "      <td>[Palermo, Smyrna, Constantinople, Bucuresti, Kyiv, Smolensk, Moskva]</td>\n",
       "      <td>7</td>\n",
       "      <td>20</td>\n",
       "      <td>54</td>\n",
       "      <td>2.70</td>\n",
       "    </tr>\n",
       "    <tr>\n",
       "      <th>46</th>\n",
       "      <td>[Palermo, Smyrna, Constantinople, Bucuresti, Kyiv, Kharkov, Moskva]</td>\n",
       "      <td>7</td>\n",
       "      <td>23</td>\n",
       "      <td>62</td>\n",
       "      <td>2.70</td>\n",
       "    </tr>\n",
       "    <tr>\n",
       "      <th>42</th>\n",
       "      <td>[Palermo, Smyrna, Constantinople, Bucuresti, Budapest, Kyiv, Kharkov, Moskva]</td>\n",
       "      <td>8</td>\n",
       "      <td>29</td>\n",
       "      <td>77</td>\n",
       "      <td>2.66</td>\n",
       "    </tr>\n",
       "    <tr>\n",
       "      <th>68</th>\n",
       "      <td>[Palermo, Smyrna, Athina, Sarajevo, Budapest, Kyiv, Kharkov, Moskva]</td>\n",
       "      <td>8</td>\n",
       "      <td>29</td>\n",
       "      <td>77</td>\n",
       "      <td>2.66</td>\n",
       "    </tr>\n",
       "  </tbody>\n",
       "</table>\n",
       "</div>"
      ],
      "text/plain": [
       "                                                                             path  \\\n",
       "29  [Palermo, Smyrna, Constantinople, Sevastopol, Rostov, Kharkov, Moskva]          \n",
       "47  [Palermo, Smyrna, Constantinople, Bucuresti, Kyiv, Smolensk, Moskva]            \n",
       "46  [Palermo, Smyrna, Constantinople, Bucuresti, Kyiv, Kharkov, Moskva]             \n",
       "42  [Palermo, Smyrna, Constantinople, Bucuresti, Budapest, Kyiv, Kharkov, Moskva]   \n",
       "68  [Palermo, Smyrna, Athina, Sarajevo, Budapest, Kyiv, Kharkov, Moskva]            \n",
       "\n",
       "    path_length  path_cost  path_total_points  path_points_per_capita  \n",
       "29  7            22         60                 2.73                    \n",
       "47  7            20         54                 2.70                    \n",
       "46  7            23         62                 2.70                    \n",
       "42  8            29         77                 2.66                    \n",
       "68  8            29         77                 2.66                    "
      ]
     },
     "execution_count": 36,
     "metadata": {},
     "output_type": "execute_result"
    }
   ],
   "source": [
    "temp_df.sort_values(['path_points_per_capita'],ascending=False).head(5)"
   ]
  },
  {
   "cell_type": "markdown",
   "metadata": {},
   "source": [
    "### Route Blocking Strategies"
   ]
  },
  {
   "cell_type": "code",
   "execution_count": 37,
   "metadata": {},
   "outputs": [],
   "source": [
    "# list(nx.all_node_cuts(G))\n",
    "\n",
    "# # calc edge importance from min edge cut's\n",
    "# for idx,row in destinations_df.iterrows():\n",
    "#     for min_cut in list(nx.minimum_edge_cut(G,row['source'],row['destination'])):\n",
    "#         u, v = min_cut\n",
    "#         G.edges[u,v]['importance']+=1\n",
    "\n",
    "# for u, v, d in sorted(G.edges(data=True), key=lambda x: x[2]['importance'], reverse=True)[:10]:\n",
    "#     print('{u}-{v} {imp}'.format(u=u, v=v, imp=d['importance']))\n",
    "    \n",
    "# for min_cut in list(nx.minimum_node_cut(G,'Palermo','Moskva')):\n",
    "#     print(min_cut)\n",
    "    \n",
    "# # calc node importance from min node cut's\n",
    "\n",
    "# temp=list()\n",
    "# with open(destinations_path) as f:\n",
    "#     for line in f:\n",
    "#         source, destination, card_points = pattern.findall(line)\n",
    "#         card_points=int(card_points)\n",
    "#         temp.append((source,destination,card_points))\n",
    "        \n",
    "# destinations_df = pd.DataFrame.from_records(temp, columns=['source','destination','card_points'])\n",
    "# del temp\n",
    "\n",
    "# from collections import Counter \n",
    "\n",
    "# city_list = []\n",
    "# for idx,row in destinations_df.iterrows():\n",
    "#     for min_cut in list(nx.minimum_node_cut(G,row['source'],row['destination'])):\n",
    "#         city_list.append(min_cut)\n",
    "\n",
    "# city_count = Counter(city_list) \n",
    "# city_count.most_common(10)\n",
    "\n",
    "# from networkx.algorithms.connectivity import local_node_connectivity\n",
    "# local_node_connectivity(G, 'Cadiz', 'Edinburgh')"
   ]
  }
 ],
 "metadata": {
  "kernelspec": {
   "display_name": "Python 3",
   "language": "python",
   "name": "python3"
  },
  "language_info": {
   "codemirror_mode": {
    "name": "ipython",
    "version": 3
   },
   "file_extension": ".py",
   "mimetype": "text/x-python",
   "name": "python",
   "nbconvert_exporter": "python",
   "pygments_lexer": "ipython3",
   "version": "3.7.1"
  }
 },
 "nbformat": 4,
 "nbformat_minor": 2
}
