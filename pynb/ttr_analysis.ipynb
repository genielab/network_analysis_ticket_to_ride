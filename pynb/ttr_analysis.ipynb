{
 "cells": [
  {
   "cell_type": "code",
   "execution_count": null,
   "metadata": {},
   "outputs": [],
   "source": [
    "import os\n",
    "import re\n",
    "import networkx as nx\n",
    "import matplotlib.pyplot as plt\n",
    "import pandas as pd\n",
    "import json\n",
    "import math\n",
    "\n",
    "%matplotlib inline\n",
    "%config IPCompleter.greedy=True\n",
    "\n",
    "pd.set_option('display.max_colwidth', -1)"
   ]
  },
  {
   "cell_type": "code",
   "execution_count": 4,
   "metadata": {},
   "outputs": [],
   "source": [
    "G = nx.MultiGraph()"
   ]
  },
  {
   "cell_type": "code",
   "execution_count": 5,
   "metadata": {},
   "outputs": [],
   "source": [
    "# functions\n",
    "\n",
    "# function to calculate points from segment length\n",
    "def points(distance):\n",
    "    x = [0, 1, 2, 4, 7, 0, 15, 0, 21]\n",
    "    return x[distance]\n",
    "\n",
    "def inverse_weight(distance):\n",
    "    return(1/distance)\n",
    "\n",
    "# distance of path p in graph g\n",
    "def distance_of_path(g, p):\n",
    "    d = sum([g.edges[p[e],p[e+1],0]['distance'] for e in range(len(p)-1)])\n",
    "    return d\n",
    "\n",
    "# points of path p in graph g\n",
    "def points_of_path(g, p):\n",
    "    d = sum([g.edges[p[e],p[e+1],0]['points'] for e in range(len(p)-1)])\n",
    "    return d"
   ]
  },
  {
   "cell_type": "code",
   "execution_count": 73,
   "metadata": {},
   "outputs": [],
   "source": [
    "# construct graph\n",
    "\n",
    "G.clear()\n",
    "\n",
    "with open(routes_path) as f:\n",
    "    for line in f:\n",
    "        city1, city2, distance, route_type, color, is_multi = pattern.findall(line)\n",
    "        distance = int(distance)\n",
    "        if(G.has_edge(city1,city2)==False):\n",
    "            G.add_edge(city1, city2, key=0, distance=distance, route_type=route_type, color=color, points=points(distance), \n",
    "                   weight=distance, importance=0)\n",
    "        else:\n",
    "            G.add_edge(city1, city2, key=1, distance=distance, route_type=route_type, color=color, points=points(distance), \n",
    "                   weight=distance, importance=0)       "
   ]
  },
  {
   "cell_type": "code",
   "execution_count": 64,
   "metadata": {},
   "outputs": [],
   "source": [
    "# construct shortest paths of destinations\n",
    "temp=list()\n",
    "with open(destinations_path) as f:\n",
    "    for line in f:\n",
    "        source, destination, card_points = pattern.findall(line)\n",
    "        card_points=int(card_points)\n",
    "        p1=list()\n",
    "        points1=0\n",
    "        distance1=0\n",
    "        for p in nx.all_shortest_paths(G,source,destination,weight='weight'):\n",
    "            _points=points_of_path(G,p)\n",
    "            if(_points>points1):\n",
    "                points1=_points\n",
    "                distance1=distance_of_path(G,p)\n",
    "                p1=p\n",
    "        total_points=card_points+points1\n",
    "        temp.append((source,destination,card_points,distance1,total_points,'-'.join(p1)))\n",
    "        \n",
    "destinations_df = pd.DataFrame.from_records(temp, columns=['source','destination','card_points','min_req_trains','total_points','path'])\n",
    "del temp\n",
    "\n",
    "#  calculate points-per-capita\n",
    "destinations_df['points_per_capita'] = destinations_df.apply(lambda row: round(row['total_points']/row['min_req_trains'],2), axis=1)\n",
    "\n",
    "# connectivity\n",
    "destinations_df['connectivity'] = destinations_df.apply(lambda row: nx.edge_connectivity(G,row['source'],row['destination']), axis=1)"
   ]
  },
  {
   "cell_type": "code",
   "execution_count": 65,
   "metadata": {},
   "outputs": [
    {
     "data": {
      "text/html": [
       "<div>\n",
       "<style scoped>\n",
       "    .dataframe tbody tr th:only-of-type {\n",
       "        vertical-align: middle;\n",
       "    }\n",
       "\n",
       "    .dataframe tbody tr th {\n",
       "        vertical-align: top;\n",
       "    }\n",
       "\n",
       "    .dataframe thead th {\n",
       "        text-align: right;\n",
       "    }\n",
       "</style>\n",
       "<table border=\"1\" class=\"dataframe\">\n",
       "  <thead>\n",
       "    <tr style=\"text-align: right;\">\n",
       "      <th></th>\n",
       "      <th>source</th>\n",
       "      <th>destination</th>\n",
       "      <th>card_points</th>\n",
       "      <th>min_req_trains</th>\n",
       "      <th>total_points</th>\n",
       "      <th>path</th>\n",
       "      <th>points_per_capita</th>\n",
       "      <th>connectivity</th>\n",
       "    </tr>\n",
       "  </thead>\n",
       "  <tbody>\n",
       "    <tr>\n",
       "      <th>42</th>\n",
       "      <td>Palermo</td>\n",
       "      <td>Moskva</td>\n",
       "      <td>20</td>\n",
       "      <td>20</td>\n",
       "      <td>54</td>\n",
       "      <td>Palermo-Smyrna-Constantinople-Bucuresti-Kyiv-Smolensk-Moskva</td>\n",
       "      <td>2.70</td>\n",
       "      <td>3</td>\n",
       "    </tr>\n",
       "    <tr>\n",
       "      <th>43</th>\n",
       "      <td>Kobenhavn</td>\n",
       "      <td>Erzurum</td>\n",
       "      <td>21</td>\n",
       "      <td>21</td>\n",
       "      <td>53</td>\n",
       "      <td>Kobenhavn-Essen-Berlin-Wien-Budapest-Bucuresti-Sevastopol-Erzurum</td>\n",
       "      <td>2.52</td>\n",
       "      <td>2</td>\n",
       "    </tr>\n",
       "    <tr>\n",
       "      <th>45</th>\n",
       "      <td>Cadiz</td>\n",
       "      <td>Stockholm</td>\n",
       "      <td>21</td>\n",
       "      <td>21</td>\n",
       "      <td>50</td>\n",
       "      <td>Cadiz-Madrid-Pamplona-Paris-Frankfurt-Essen-Kobenhavn-Stockholm</td>\n",
       "      <td>2.38</td>\n",
       "      <td>2</td>\n",
       "    </tr>\n",
       "    <tr>\n",
       "      <th>41</th>\n",
       "      <td>Brest</td>\n",
       "      <td>Petrograd</td>\n",
       "      <td>20</td>\n",
       "      <td>20</td>\n",
       "      <td>50</td>\n",
       "      <td>Brest-Paris-Frankfurt-Berlin-Danzig-Riga-Petrograd</td>\n",
       "      <td>2.50</td>\n",
       "      <td>3</td>\n",
       "    </tr>\n",
       "    <tr>\n",
       "      <th>40</th>\n",
       "      <td>Lisboa</td>\n",
       "      <td>Danzig</td>\n",
       "      <td>20</td>\n",
       "      <td>20</td>\n",
       "      <td>50</td>\n",
       "      <td>Lisboa-Madrid-Pamplona-Paris-Frankfurt-Berlin-Danzig</td>\n",
       "      <td>2.50</td>\n",
       "      <td>2</td>\n",
       "    </tr>\n",
       "    <tr>\n",
       "      <th>44</th>\n",
       "      <td>Edinburgh</td>\n",
       "      <td>Athina</td>\n",
       "      <td>21</td>\n",
       "      <td>20</td>\n",
       "      <td>48</td>\n",
       "      <td>Edinburgh-London-Dieppe-Paris-Zurich-Venezia-Roma-Brindisi-Athina</td>\n",
       "      <td>2.40</td>\n",
       "      <td>1</td>\n",
       "    </tr>\n",
       "    <tr>\n",
       "      <th>39</th>\n",
       "      <td>Frankfurt</td>\n",
       "      <td>Smolensk</td>\n",
       "      <td>13</td>\n",
       "      <td>13</td>\n",
       "      <td>32</td>\n",
       "      <td>Frankfurt-Berlin-Warszawa-Wilno-Smolensk</td>\n",
       "      <td>2.46</td>\n",
       "      <td>3</td>\n",
       "    </tr>\n",
       "    <tr>\n",
       "      <th>38</th>\n",
       "      <td>Amsterdam</td>\n",
       "      <td>Wilno</td>\n",
       "      <td>12</td>\n",
       "      <td>12</td>\n",
       "      <td>29</td>\n",
       "      <td>Amsterdam-Frankfurt-Berlin-Warszawa-Wilno</td>\n",
       "      <td>2.42</td>\n",
       "      <td>4</td>\n",
       "    </tr>\n",
       "    <tr>\n",
       "      <th>37</th>\n",
       "      <td>Berlin</td>\n",
       "      <td>Moskva</td>\n",
       "      <td>12</td>\n",
       "      <td>12</td>\n",
       "      <td>29</td>\n",
       "      <td>Berlin-Warszawa-Wilno-Smolensk-Moskva</td>\n",
       "      <td>2.42</td>\n",
       "      <td>3</td>\n",
       "    </tr>\n",
       "    <tr>\n",
       "      <th>32</th>\n",
       "      <td>Essen</td>\n",
       "      <td>Kyiv</td>\n",
       "      <td>10</td>\n",
       "      <td>10</td>\n",
       "      <td>26</td>\n",
       "      <td>Essen-Berlin-Warszawa-Kyiv</td>\n",
       "      <td>2.60</td>\n",
       "      <td>4</td>\n",
       "    </tr>\n",
       "  </tbody>\n",
       "</table>\n",
       "</div>"
      ],
      "text/plain": [
       "       source destination  card_points  min_req_trains  total_points  \\\n",
       "42  Palermo    Moskva      20           20              54             \n",
       "43  Kobenhavn  Erzurum     21           21              53             \n",
       "45  Cadiz      Stockholm   21           21              50             \n",
       "41  Brest      Petrograd   20           20              50             \n",
       "40  Lisboa     Danzig      20           20              50             \n",
       "44  Edinburgh  Athina      21           20              48             \n",
       "39  Frankfurt  Smolensk    13           13              32             \n",
       "38  Amsterdam  Wilno       12           12              29             \n",
       "37  Berlin     Moskva      12           12              29             \n",
       "32  Essen      Kyiv        10           10              26             \n",
       "\n",
       "                                                                 path  \\\n",
       "42  Palermo-Smyrna-Constantinople-Bucuresti-Kyiv-Smolensk-Moskva        \n",
       "43  Kobenhavn-Essen-Berlin-Wien-Budapest-Bucuresti-Sevastopol-Erzurum   \n",
       "45  Cadiz-Madrid-Pamplona-Paris-Frankfurt-Essen-Kobenhavn-Stockholm     \n",
       "41  Brest-Paris-Frankfurt-Berlin-Danzig-Riga-Petrograd                  \n",
       "40  Lisboa-Madrid-Pamplona-Paris-Frankfurt-Berlin-Danzig                \n",
       "44  Edinburgh-London-Dieppe-Paris-Zurich-Venezia-Roma-Brindisi-Athina   \n",
       "39  Frankfurt-Berlin-Warszawa-Wilno-Smolensk                            \n",
       "38  Amsterdam-Frankfurt-Berlin-Warszawa-Wilno                           \n",
       "37  Berlin-Warszawa-Wilno-Smolensk-Moskva                               \n",
       "32  Essen-Berlin-Warszawa-Kyiv                                          \n",
       "\n",
       "    points_per_capita  connectivity  \n",
       "42  2.70               3             \n",
       "43  2.52               2             \n",
       "45  2.38               2             \n",
       "41  2.50               3             \n",
       "40  2.50               2             \n",
       "44  2.40               1             \n",
       "39  2.46               3             \n",
       "38  2.42               4             \n",
       "37  2.42               3             \n",
       "32  2.60               4             "
      ]
     },
     "execution_count": 65,
     "metadata": {},
     "output_type": "execute_result"
    }
   ],
   "source": [
    "destinations_df.sort_values(['total_points'],ascending=False).head(10)"
   ]
  },
  {
   "cell_type": "code",
   "execution_count": 27,
   "metadata": {},
   "outputs": [
    {
     "data": {
      "text/html": [
       "<div>\n",
       "<style scoped>\n",
       "    .dataframe tbody tr th:only-of-type {\n",
       "        vertical-align: middle;\n",
       "    }\n",
       "\n",
       "    .dataframe tbody tr th {\n",
       "        vertical-align: top;\n",
       "    }\n",
       "\n",
       "    .dataframe thead th {\n",
       "        text-align: right;\n",
       "    }\n",
       "</style>\n",
       "<table border=\"1\" class=\"dataframe\">\n",
       "  <thead>\n",
       "    <tr style=\"text-align: right;\">\n",
       "      <th></th>\n",
       "      <th>path</th>\n",
       "      <th>min_req_trains</th>\n",
       "      <th>points</th>\n",
       "      <th>points_per_capita</th>\n",
       "    </tr>\n",
       "  </thead>\n",
       "  <tbody>\n",
       "    <tr>\n",
       "      <th>0</th>\n",
       "      <td>[Lisboa, Madrid, Barcelona, Marseille, Roma, Palermo, Smyrna, Constantinople, Sevastopol, Rostov]</td>\n",
       "      <td>33</td>\n",
       "      <td>58</td>\n",
       "      <td>1.76</td>\n",
       "    </tr>\n",
       "    <tr>\n",
       "      <th>1</th>\n",
       "      <td>[Lisboa, Madrid, Pamplona, Marseille, Roma, Palermo, Smyrna, Constantinople, Sevastopol, Rostov]</td>\n",
       "      <td>34</td>\n",
       "      <td>60</td>\n",
       "      <td>1.76</td>\n",
       "    </tr>\n",
       "    <tr>\n",
       "      <th>2</th>\n",
       "      <td>[Lisboa, Madrid, Pamplona, Paris, Frankfurt, Berlin, Warszawa, Kyiv, Kharkov, Rostov]</td>\n",
       "      <td>30</td>\n",
       "      <td>46</td>\n",
       "      <td>1.53</td>\n",
       "    </tr>\n",
       "  </tbody>\n",
       "</table>\n",
       "</div>"
      ],
      "text/plain": [
       "                                                                                                path  \\\n",
       "0  [Lisboa, Madrid, Barcelona, Marseille, Roma, Palermo, Smyrna, Constantinople, Sevastopol, Rostov]   \n",
       "1  [Lisboa, Madrid, Pamplona, Marseille, Roma, Palermo, Smyrna, Constantinople, Sevastopol, Rostov]    \n",
       "2  [Lisboa, Madrid, Pamplona, Paris, Frankfurt, Berlin, Warszawa, Kyiv, Kharkov, Rostov]               \n",
       "\n",
       "   min_req_trains  points  points_per_capita  \n",
       "0  33              58      1.76               \n",
       "1  34              60      1.76               \n",
       "2  30              46      1.53               "
      ]
     },
     "execution_count": 27,
     "metadata": {},
     "output_type": "execute_result"
    }
   ],
   "source": [
    "# compare all paths between given cities\n",
    "temp = list()\n",
    "for p in nx.all_shortest_paths(G,'Lisboa','Rostov',weight=None):\n",
    "    distance=distance_of_path(G,p)\n",
    "    points1=points_of_path(G,p)\n",
    "    per_capita=round(points1/distance,2)\n",
    "    temp.append((p,distance,points1,per_capita))\n",
    "\n",
    "temp_df = pd.DataFrame.from_records(temp,columns=['path','min_req_trains','points','points_per_capita'])\n",
    "del temp\n",
    "\n",
    "temp_df.sort_values(['points_per_capita'],ascending=False).head(5)"
   ]
  },
  {
   "cell_type": "code",
   "execution_count": 32,
   "metadata": {},
   "outputs": [
    {
     "name": "stdout",
     "output_type": "stream",
     "text": [
      "Frankfurt - 0.21109636740071516\n",
      "Paris - 0.20014705369777835\n",
      "Berlin - 0.19125180375180373\n",
      "Kyiv - 0.18437449024405547\n",
      "Marseille - 0.15295250643076733\n"
     ]
    }
   ],
   "source": [
    "# betweenness centrality\n",
    "\n",
    "bc = nx.betweenness_centrality(G)\n",
    "top_bc = dict(sorted(bc.items(), key=lambda x: x[1], reverse=True)[:5])\n",
    "#print(json.dumps(top_bc, indent=4))\n",
    "\n",
    "for k,v in top_bc.items():\n",
    "    print('{} - {}'.format(k,v))"
   ]
  },
  {
   "cell_type": "code",
   "execution_count": 37,
   "metadata": {},
   "outputs": [
    {
     "data": {
      "text/plain": [
       "9"
      ]
     },
     "execution_count": 37,
     "metadata": {},
     "output_type": "execute_result"
    }
   ],
   "source": [
    "nx.diameter(G)"
   ]
  },
  {
   "cell_type": "code",
   "execution_count": 39,
   "metadata": {},
   "outputs": [
    {
     "name": "stdout",
     "output_type": "stream",
     "text": [
      "{\n",
      "    \"Lisboa\": 9,\n",
      "    \"Cadiz\": 9,\n",
      "    \"Edinburgh\": 9,\n",
      "    \"Erzurum\": 9,\n",
      "    \"Sochi\": 9,\n",
      "    \"Rostov\": 9,\n",
      "    \"Moskva\": 9,\n",
      "    \"Madrid\": 8,\n",
      "    \"Barcelona\": 8,\n",
      "    \"Brest\": 8,\n",
      "    \"Dieppe\": 8,\n",
      "    \"London\": 8,\n",
      "    \"Angora\": 8,\n",
      "    \"Sevastopol\": 8,\n",
      "    \"Constantinople\": 8,\n",
      "    \"Bucuresti\": 8,\n",
      "    \"Kharkov\": 8,\n",
      "    \"Smolensk\": 8,\n",
      "    \"Petrograd\": 8,\n",
      "    \"Sofia\": 8,\n",
      "    \"Pamplona\": 7,\n",
      "    \"Marseille\": 7,\n",
      "    \"Paris\": 7,\n",
      "    \"Bruxelles\": 7,\n",
      "    \"Amsterdam\": 7,\n",
      "    \"Smyrna\": 7,\n",
      "    \"Kyiv\": 7,\n",
      "    \"Wilno\": 7,\n",
      "    \"Budapest\": 7,\n",
      "    \"Riga\": 7,\n",
      "    \"Stockholm\": 7,\n",
      "    \"Palermo\": 7,\n",
      "    \"Athina\": 7,\n",
      "    \"Kobenhavn\": 7,\n",
      "    \"Sarajevo\": 7,\n",
      "    \"Brindisi\": 7,\n",
      "    \"Warszawa\": 6,\n",
      "    \"Danzig\": 6,\n",
      "    \"Essen\": 6,\n",
      "    \"Wien\": 6,\n",
      "    \"Zagrab\": 6,\n",
      "    \"Roma\": 6,\n",
      "    \"Frankfurt\": 6,\n",
      "    \"Zurich\": 6,\n",
      "    \"Berlin\": 5,\n",
      "    \"Venezia\": 5,\n",
      "    \"Munchen\": 5\n",
      "}\n"
     ]
    }
   ],
   "source": [
    "ecc = nx.eccentricity(G)\n",
    "ecc = dict(sorted(ecc.items(), key=lambda x: x[1], reverse=True))\n",
    "print(json.dumps(ecc, indent=4))"
   ]
  },
  {
   "cell_type": "code",
   "execution_count": 41,
   "metadata": {},
   "outputs": [
    {
     "ename": "NetworkXNotImplemented",
     "evalue": "not implemented for multigraph type",
     "traceback": [
      "\u001b[0;31m---------------------------------------------------------------------------\u001b[0m",
      "\u001b[0;31mNetworkXNotImplemented\u001b[0m                    Traceback (most recent call last)",
      "\u001b[0;32m<ipython-input-41-0d8bf4e84edb>\u001b[0m in \u001b[0;36m<module>\u001b[0;34m\u001b[0m\n\u001b[1;32m      1\u001b[0m \u001b[0;31m#node clustering co-efficient for each city\u001b[0m\u001b[0;34m\u001b[0m\u001b[0;34m\u001b[0m\u001b[0;34m\u001b[0m\u001b[0m\n\u001b[0;32m----> 2\u001b[0;31m \u001b[0mccoef\u001b[0m \u001b[0;34m=\u001b[0m \u001b[0mnx\u001b[0m\u001b[0;34m.\u001b[0m\u001b[0mclustering\u001b[0m\u001b[0;34m(\u001b[0m\u001b[0mG\u001b[0m\u001b[0;34m)\u001b[0m\u001b[0;34m\u001b[0m\u001b[0;34m\u001b[0m\u001b[0m\n\u001b[0m\u001b[1;32m      3\u001b[0m \u001b[0mprint\u001b[0m\u001b[0;34m(\u001b[0m\u001b[0mjson\u001b[0m\u001b[0;34m.\u001b[0m\u001b[0mdumps\u001b[0m\u001b[0;34m(\u001b[0m\u001b[0mccoef\u001b[0m\u001b[0;34m,\u001b[0m \u001b[0mindent\u001b[0m\u001b[0;34m=\u001b[0m\u001b[0;36m4\u001b[0m\u001b[0;34m)\u001b[0m\u001b[0;34m)\u001b[0m\u001b[0;34m\u001b[0m\u001b[0;34m\u001b[0m\u001b[0m\n",
      "\u001b[0;32m/anaconda3/envs/dev1/lib/python3.7/site-packages/networkx/algorithms/cluster.py\u001b[0m in \u001b[0;36mclustering\u001b[0;34m(G, nodes, weight)\u001b[0m\n\u001b[1;32m    361\u001b[0m                         v, d, t in td_iter}\n\u001b[1;32m    362\u001b[0m         \u001b[0;32melse\u001b[0m\u001b[0;34m:\u001b[0m\u001b[0;34m\u001b[0m\u001b[0;34m\u001b[0m\u001b[0m\n\u001b[0;32m--> 363\u001b[0;31m             \u001b[0mtd_iter\u001b[0m \u001b[0;34m=\u001b[0m \u001b[0m_triangles_and_degree_iter\u001b[0m\u001b[0;34m(\u001b[0m\u001b[0mG\u001b[0m\u001b[0;34m,\u001b[0m \u001b[0mnodes\u001b[0m\u001b[0;34m)\u001b[0m\u001b[0;34m\u001b[0m\u001b[0;34m\u001b[0m\u001b[0m\n\u001b[0m\u001b[1;32m    364\u001b[0m             clusterc = {v: 0 if t == 0 else t / (d * (d - 1)) for\n\u001b[1;32m    365\u001b[0m                         v, d, t, _ in td_iter}\n",
      "\u001b[0;32m<decorator-gen-272>\u001b[0m in \u001b[0;36m_triangles_and_degree_iter\u001b[0;34m(G, nodes)\u001b[0m\n",
      "\u001b[0;32m/anaconda3/envs/dev1/lib/python3.7/site-packages/networkx/utils/decorators.py\u001b[0m in \u001b[0;36m_not_implemented_for\u001b[0;34m(not_implement_for_func, *args, **kwargs)\u001b[0m\n\u001b[1;32m     78\u001b[0m         \u001b[0;32mif\u001b[0m \u001b[0mmatch\u001b[0m\u001b[0;34m:\u001b[0m\u001b[0;34m\u001b[0m\u001b[0;34m\u001b[0m\u001b[0m\n\u001b[1;32m     79\u001b[0m             \u001b[0mmsg\u001b[0m \u001b[0;34m=\u001b[0m \u001b[0;34m'not implemented for %s type'\u001b[0m \u001b[0;34m%\u001b[0m \u001b[0;34m' '\u001b[0m\u001b[0;34m.\u001b[0m\u001b[0mjoin\u001b[0m\u001b[0;34m(\u001b[0m\u001b[0mgraph_types\u001b[0m\u001b[0;34m)\u001b[0m\u001b[0;34m\u001b[0m\u001b[0;34m\u001b[0m\u001b[0m\n\u001b[0;32m---> 80\u001b[0;31m             \u001b[0;32mraise\u001b[0m \u001b[0mnx\u001b[0m\u001b[0;34m.\u001b[0m\u001b[0mNetworkXNotImplemented\u001b[0m\u001b[0;34m(\u001b[0m\u001b[0mmsg\u001b[0m\u001b[0;34m)\u001b[0m\u001b[0;34m\u001b[0m\u001b[0;34m\u001b[0m\u001b[0m\n\u001b[0m\u001b[1;32m     81\u001b[0m         \u001b[0;32melse\u001b[0m\u001b[0;34m:\u001b[0m\u001b[0;34m\u001b[0m\u001b[0;34m\u001b[0m\u001b[0m\n\u001b[1;32m     82\u001b[0m             \u001b[0;32mreturn\u001b[0m \u001b[0mnot_implement_for_func\u001b[0m\u001b[0;34m(\u001b[0m\u001b[0;34m*\u001b[0m\u001b[0margs\u001b[0m\u001b[0;34m,\u001b[0m \u001b[0;34m**\u001b[0m\u001b[0mkwargs\u001b[0m\u001b[0;34m)\u001b[0m\u001b[0;34m\u001b[0m\u001b[0;34m\u001b[0m\u001b[0m\n",
      "\u001b[0;31mNetworkXNotImplemented\u001b[0m: not implemented for multigraph type"
     ],
     "output_type": "error"
    }
   ],
   "source": [
    "#node clustering co-efficient for each city\n",
    "ccoef = nx.clustering(G)\n",
    "print(json.dumps(ccoef, indent=4))"
   ]
  },
  {
   "cell_type": "code",
   "execution_count": 45,
   "metadata": {},
   "outputs": [
    {
     "data": {
      "text/plain": [
       "<matplotlib.legend.Legend at 0x12244c0b8>"
      ]
     },
     "execution_count": 45,
     "metadata": {},
     "output_type": "execute_result"
    },
    {
     "data": {
      "image/png": "[encoded data removed]",
      "text/plain": [
       "<Figure size 432x288 with 1 Axes>"
      ]
     },
     "metadata": {
      "needs_background": "light"
     },
     "output_type": "display_data"
    }
   ],
   "source": [
    "#histogram of degrees for all nodes\n",
    "degree_list = [G.degree[n] for n in G.nodes(data=False)]\n",
    "\n",
    "plt.hist(degree_list, label=\"Degrees\")\n",
    "plt.legend(loc='upper right')"
   ]
  },
  {
   "cell_type": "code",
   "execution_count": 46,
   "metadata": {},
   "outputs": [
    {
     "data": {
      "text/plain": [
       "<matplotlib.legend.Legend at 0x1227c2390>"
      ]
     },
     "execution_count": 46,
     "metadata": {},
     "output_type": "execute_result"
    },
    {
     "data": {
      "image/png": "[encoded data removed]",
      "text/plain": [
       "<Figure size 432x288 with 1 Axes>"
      ]
     },
     "metadata": {
      "needs_background": "light"
     },
     "output_type": "display_data"
    }
   ],
   "source": [
    "#histogram of weights for all nodes\n",
    "weights_list = [d['weight'] for u,v,d in G.edges(data=True)]\n",
    "\n",
    "plt.hist(weights_list, label=\"Weights\")\n",
    "plt.legend(loc='upper right')"
   ]
  },
  {
   "cell_type": "code",
   "execution_count": 47,
   "metadata": {},
   "outputs": [
    {
     "data": {
      "text/plain": [
       "<matplotlib.legend.Legend at 0x122884ef0>"
      ]
     },
     "execution_count": 47,
     "metadata": {},
     "output_type": "execute_result"
    },
    {
     "data": {
      "image/png": "[encoded data removed]",
      "text/plain": [
       "<Figure size 432x288 with 1 Axes>"
      ]
     },
     "metadata": {
      "needs_background": "light"
     },
     "output_type": "display_data"
    }
   ],
   "source": [
    "# histogram of destination cards points\n",
    "card_points = [row['card_points'] for idx,row in destinations_df.iterrows()]\n",
    "\n",
    "plt.hist(card_points, label=\"Destination Card Points\")\n",
    "plt.legend(loc='upper right')"
   ]
  },
  {
   "cell_type": "code",
   "execution_count": 48,
   "metadata": {},
   "outputs": [
    {
     "data": {
      "text/plain": [
       "1"
      ]
     },
     "execution_count": 48,
     "metadata": {},
     "output_type": "execute_result"
    }
   ],
   "source": [
    "nx.node_connectivity(G)"
   ]
  },
  {
   "cell_type": "code",
   "execution_count": 49,
   "metadata": {},
   "outputs": [
    {
     "data": {
      "text/plain": [
       "1"
      ]
     },
     "execution_count": 49,
     "metadata": {},
     "output_type": "execute_result"
    }
   ],
   "source": [
    "nx.edge_connectivity(G)"
   ]
  },
  {
   "cell_type": "code",
   "execution_count": 61,
   "metadata": {},
   "outputs": [
    {
     "name": "stdout",
     "output_type": "stream",
     "text": [
      "3\n"
     ]
    }
   ],
   "source": [
    "print(nx.edge_connectivity(G,'Palermo','Moskva'))"
   ]
  },
  {
   "cell_type": "code",
   "execution_count": 78,
   "metadata": {},
   "outputs": [
    {
     "data": {
      "text/plain": [
       "[('Erzurum', 'Angora'), ('Constantinople', 'Angora'), ('Smyrna', 'Angora')]"
      ]
     },
     "execution_count": 78,
     "metadata": {},
     "output_type": "execute_result"
    }
   ],
   "source": [
    "list(nx.minimum_edge_cut(G,'Erzurum','Angora'))"
   ]
  },
  {
   "cell_type": "code",
   "execution_count": 81,
   "metadata": {},
   "outputs": [],
   "source": [
    "# calc edge importance from min edge cut's\n",
    "for idx,row in destinations_df.iterrows():\n",
    "    for min_cut in list(nx.minimum_edge_cut(G,row['source'],row['destination'])):\n",
    "        u, v = min_cut\n",
    "        G.edges[u,v,0]['importance']+=1"
   ]
  },
  {
   "cell_type": "code",
   "execution_count": 86,
   "metadata": {},
   "outputs": [
    {
     "name": "stdout",
     "output_type": "stream",
     "text": [
      "Madrid-Pamplona 5\n",
      "Petrograd-Stockholm 5\n",
      "Pamplona-Brest 4\n",
      "Moskva-Smolensk 4\n",
      "Kobenhavn-Essen 4\n",
      "Madrid-Barcelona 3\n",
      "Barcelona-Marseille 3\n",
      "Paris-Brest 3\n",
      "Brest-Dieppe 3\n",
      "Dieppe-London 3\n"
     ]
    }
   ],
   "source": [
    "for u, v, d in sorted(G.edges(data=True), key=lambda x: x[2]['importance'], reverse=True)[:10]:\n",
    "    print('{u}-{v} {imp}'.format(u=u, v=v, imp=d['importance']))"
   ]
  },
  {
   "cell_type": "code",
   "execution_count": 90,
   "metadata": {},
   "outputs": [
    {
     "name": "stdout",
     "output_type": "stream",
     "text": [
      "('Berlin', 'Frankfurt') - 0.1405088448913611\n",
      "('Marseille', 'Roma') - 0.13431056301084057\n",
      "('Paris', 'Frankfurt') - 0.13328581173169515\n",
      "('Warszawa', 'Berlin') - 0.11138325904745887\n",
      "('Kyiv', 'Warszawa') - 0.09926518388590547\n"
     ]
    }
   ],
   "source": [
    "# edge-betweenness centrality\n",
    "\n",
    "ebc = nx.edge_betweenness_centrality(G,weight='weight')\n",
    "top_ebc = dict(sorted(ebc.items(), key=lambda x: x[1], reverse=True)[:5])\n",
    "\n",
    "for k,v in top_ebc.items():\n",
    "    print('{} - {}'.format(k,v))"
   ]
  },
  {
   "cell_type": "code",
   "execution_count": 143,
   "metadata": {},
   "outputs": [],
   "source": [
    "def candidate_vertices(g, u, v):\n",
    "    d = math.floor(nx.shortest_path_length(g, u, v)/2 + 1)\n",
    "    p1 = [c for c in nx.bfs_tree(g, u, depth_limit=d)]\n",
    "    p2 = [c for c in nx.bfs_tree(g, u, depth_limit=d)]\n",
    "    s = set(p1) & set(p2)\n",
    "    s.add(u)\n",
    "    s.add(v)\n",
    "    return s\n",
    "   \n",
    "# Score all paths between u and v in graph g up to distance min(u,v)+1\n",
    "def best_scoring_paths(g, u, v):\n",
    "    #gs = g.subgraph(nodes = candidate_vertices(g, u, v))\n",
    "    #print(nx.info(g))\n",
    "    #print(nx.info(gs))\n",
    "    #gs.remove_multiple_edges()\n",
    "    sp_length=nx.shortest_path_length(g,u,v)\n",
    "    paths = nx.all_simple_paths(g, u, v, cutoff=sp_length+2)\n",
    "    return [{'path': x, 'length': len(x), 'points': points_of_path(g, x), 'score': float(points_of_path(g, x)/len(x))} for x in paths]\n",
    "    #return [{'path': x, 'length': len(x), 'points': points_of_path(gs, x), 'score': float(points_of_path(gs, x)/len(x))} for x in paths]"
   ]
  },
  {
   "cell_type": "code",
   "execution_count": null,
   "metadata": {},
   "outputs": [],
   "source": [
    "#Ref https://github.com/alphajuliet/ticket-to-ride/blob/master/ttr.ipynb"
   ]
  },
  {
   "cell_type": "code",
   "execution_count": 144,
   "metadata": {},
   "outputs": [
    {
     "name": "stdout",
     "output_type": "stream",
     "text": [
      "131\n"
     ]
    },
    {
     "data": {
      "text/plain": [
       "[{'path': ['Palermo',\n",
       "   'Smyrna',\n",
       "   'Constantinople',\n",
       "   'Sevastopol',\n",
       "   'Bucuresti',\n",
       "   'Budapest',\n",
       "   'Kyiv',\n",
       "   'Kharkov',\n",
       "   'Moskva'],\n",
       "  'length': 9,\n",
       "  'points': 67,\n",
       "  'score': 7.444444444444445},\n",
       " {'path': ['Palermo',\n",
       "   'Smyrna',\n",
       "   'Constantinople',\n",
       "   'Bucuresti',\n",
       "   'Budapest',\n",
       "   'Kyiv',\n",
       "   'Kharkov',\n",
       "   'Moskva'],\n",
       "  'length': 8,\n",
       "  'points': 57,\n",
       "  'score': 7.125},\n",
       " {'path': ['Palermo',\n",
       "   'Smyrna',\n",
       "   'Athina',\n",
       "   'Sarajevo',\n",
       "   'Budapest',\n",
       "   'Kyiv',\n",
       "   'Kharkov',\n",
       "   'Moskva'],\n",
       "  'length': 8,\n",
       "  'points': 57,\n",
       "  'score': 7.125},\n",
       " {'path': ['Palermo',\n",
       "   'Smyrna',\n",
       "   'Angora',\n",
       "   'Constantinople',\n",
       "   'Bucuresti',\n",
       "   'Budapest',\n",
       "   'Kyiv',\n",
       "   'Kharkov',\n",
       "   'Moskva'],\n",
       "  'length': 9,\n",
       "  'points': 61,\n",
       "  'score': 6.777777777777778},\n",
       " {'path': ['Palermo',\n",
       "   'Smyrna',\n",
       "   'Constantinople',\n",
       "   'Sevastopol',\n",
       "   'Bucuresti',\n",
       "   'Budapest',\n",
       "   'Kyiv',\n",
       "   'Smolensk',\n",
       "   'Moskva'],\n",
       "  'length': 9,\n",
       "  'points': 59,\n",
       "  'score': 6.555555555555555},\n",
       " {'path': ['Palermo',\n",
       "   'Smyrna',\n",
       "   'Constantinople',\n",
       "   'Sofia',\n",
       "   'Bucuresti',\n",
       "   'Budapest',\n",
       "   'Kyiv',\n",
       "   'Kharkov',\n",
       "   'Moskva'],\n",
       "  'length': 9,\n",
       "  'points': 59,\n",
       "  'score': 6.555555555555555},\n",
       " {'path': ['Palermo',\n",
       "   'Smyrna',\n",
       "   'Constantinople',\n",
       "   'Bucuresti',\n",
       "   'Budapest',\n",
       "   'Kyiv',\n",
       "   'Wilno',\n",
       "   'Petrograd',\n",
       "   'Moskva'],\n",
       "  'length': 9,\n",
       "  'points': 59,\n",
       "  'score': 6.555555555555555},\n",
       " {'path': ['Palermo',\n",
       "   'Smyrna',\n",
       "   'Athina',\n",
       "   'Sofia',\n",
       "   'Bucuresti',\n",
       "   'Budapest',\n",
       "   'Kyiv',\n",
       "   'Kharkov',\n",
       "   'Moskva'],\n",
       "  'length': 9,\n",
       "  'points': 59,\n",
       "  'score': 6.555555555555555},\n",
       " {'path': ['Palermo',\n",
       "   'Smyrna',\n",
       "   'Athina',\n",
       "   'Sarajevo',\n",
       "   'Budapest',\n",
       "   'Kyiv',\n",
       "   'Wilno',\n",
       "   'Petrograd',\n",
       "   'Moskva'],\n",
       "  'length': 9,\n",
       "  'points': 59,\n",
       "  'score': 6.555555555555555},\n",
       " {'path': ['Palermo',\n",
       "   'Smyrna',\n",
       "   'Athina',\n",
       "   'Sarajevo',\n",
       "   'Zagrab',\n",
       "   'Budapest',\n",
       "   'Kyiv',\n",
       "   'Kharkov',\n",
       "   'Moskva'],\n",
       "  'length': 9,\n",
       "  'points': 59,\n",
       "  'score': 6.555555555555555}]"
      ]
     },
     "execution_count": 144,
     "metadata": {},
     "output_type": "execute_result"
    }
   ],
   "source": [
    "x = best_scoring_paths(G, 'Palermo', 'Moskva')\n",
    "print(len(x))\n",
    "x.sort(key = lambda x: x['score'], reverse = True)\n",
    "x[0:10]"
   ]
  },
  {
   "cell_type": "code",
   "execution_count": 135,
   "metadata": {},
   "outputs": [
    {
     "data": {
      "text/plain": [
       "6"
      ]
     },
     "execution_count": 135,
     "metadata": {},
     "output_type": "execute_result"
    }
   ],
   "source": [
    "nx.shortest_path_length(G, 'Palermo', 'Moskva')"
   ]
  },
  {
   "cell_type": "code",
   "execution_count": 137,
   "metadata": {},
   "outputs": [
    {
     "name": "stdout",
     "output_type": "stream",
     "text": [
      "['Palermo', 'Smyrna', 'Angora', 'Erzurum', 'Sevastopol', 'Sochi', 'Rostov', 'Kharkov', 'Moskva']\n",
      "['Palermo', 'Smyrna', 'Angora', 'Erzurum', 'Sevastopol', 'Bucuresti', 'Kyiv', 'Kharkov', 'Moskva']\n",
      "['Palermo', 'Smyrna', 'Angora', 'Erzurum', 'Sevastopol', 'Bucuresti', 'Kyiv', 'Smolensk', 'Moskva']\n",
      "['Palermo', 'Smyrna', 'Angora', 'Erzurum', 'Sevastopol', 'Rostov', 'Kharkov', 'Moskva']\n",
      "['Palermo', 'Smyrna', 'Angora', 'Erzurum', 'Sochi', 'Sevastopol', 'Rostov', 'Kharkov', 'Moskva']\n",
      "['Palermo', 'Smyrna', 'Angora', 'Erzurum', 'Sochi', 'Rostov', 'Kharkov', 'Moskva']\n",
      "['Palermo', 'Smyrna', 'Angora', 'Constantinople', 'Sevastopol', 'Sochi', 'Rostov', 'Kharkov', 'Moskva']\n",
      "['Palermo', 'Smyrna', 'Angora', 'Constantinople', 'Sevastopol', 'Bucuresti', 'Kyiv', 'Kharkov', 'Moskva']\n",
      "['Palermo', 'Smyrna', 'Angora', 'Constantinople', 'Sevastopol', 'Bucuresti', 'Kyiv', 'Smolensk', 'Moskva']\n",
      "['Palermo', 'Smyrna', 'Angora', 'Constantinople', 'Sevastopol', 'Rostov', 'Kharkov', 'Moskva']\n",
      "['Palermo', 'Smyrna', 'Angora', 'Constantinople', 'Sofia', 'Bucuresti', 'Kyiv', 'Kharkov', 'Moskva']\n",
      "['Palermo', 'Smyrna', 'Angora', 'Constantinople', 'Sofia', 'Bucuresti', 'Kyiv', 'Smolensk', 'Moskva']\n",
      "['Palermo', 'Smyrna', 'Angora', 'Constantinople', 'Bucuresti', 'Sevastopol', 'Rostov', 'Kharkov', 'Moskva']\n",
      "['Palermo', 'Smyrna', 'Angora', 'Constantinople', 'Bucuresti', 'Budapest', 'Kyiv', 'Kharkov', 'Moskva']\n",
      "['Palermo', 'Smyrna', 'Angora', 'Constantinople', 'Bucuresti', 'Budapest', 'Kyiv', 'Smolensk', 'Moskva']\n",
      "['Palermo', 'Smyrna', 'Angora', 'Constantinople', 'Bucuresti', 'Kyiv', 'Kharkov', 'Moskva']\n",
      "['Palermo', 'Smyrna', 'Angora', 'Constantinople', 'Bucuresti', 'Kyiv', 'Smolensk', 'Moskva']\n",
      "['Palermo', 'Smyrna', 'Angora', 'Constantinople', 'Bucuresti', 'Kyiv', 'Wilno', 'Smolensk', 'Moskva']\n",
      "['Palermo', 'Smyrna', 'Angora', 'Constantinople', 'Bucuresti', 'Kyiv', 'Wilno', 'Petrograd', 'Moskva']\n",
      "['Palermo', 'Smyrna', 'Constantinople', 'Angora', 'Erzurum', 'Sevastopol', 'Rostov', 'Kharkov', 'Moskva']\n",
      "['Palermo', 'Smyrna', 'Constantinople', 'Angora', 'Erzurum', 'Sochi', 'Rostov', 'Kharkov', 'Moskva']\n",
      "['Palermo', 'Smyrna', 'Constantinople', 'Sevastopol', 'Erzurum', 'Sochi', 'Rostov', 'Kharkov', 'Moskva']\n",
      "['Palermo', 'Smyrna', 'Constantinople', 'Sevastopol', 'Sochi', 'Rostov', 'Kharkov', 'Moskva']\n",
      "['Palermo', 'Smyrna', 'Constantinople', 'Sevastopol', 'Bucuresti', 'Budapest', 'Kyiv', 'Kharkov', 'Moskva']\n",
      "['Palermo', 'Smyrna', 'Constantinople', 'Sevastopol', 'Bucuresti', 'Budapest', 'Kyiv', 'Smolensk', 'Moskva']\n",
      "['Palermo', 'Smyrna', 'Constantinople', 'Sevastopol', 'Bucuresti', 'Kyiv', 'Kharkov', 'Moskva']\n",
      "['Palermo', 'Smyrna', 'Constantinople', 'Sevastopol', 'Bucuresti', 'Kyiv', 'Smolensk', 'Moskva']\n",
      "['Palermo', 'Smyrna', 'Constantinople', 'Sevastopol', 'Bucuresti', 'Kyiv', 'Wilno', 'Smolensk', 'Moskva']\n",
      "['Palermo', 'Smyrna', 'Constantinople', 'Sevastopol', 'Bucuresti', 'Kyiv', 'Wilno', 'Petrograd', 'Moskva']\n",
      "['Palermo', 'Smyrna', 'Constantinople', 'Sevastopol', 'Rostov', 'Kharkov', 'Moskva']\n",
      "['Palermo', 'Smyrna', 'Constantinople', 'Sevastopol', 'Rostov', 'Kharkov', 'Kyiv', 'Smolensk', 'Moskva']\n",
      "['Palermo', 'Smyrna', 'Constantinople', 'Sofia', 'Bucuresti', 'Sevastopol', 'Rostov', 'Kharkov', 'Moskva']\n",
      "['Palermo', 'Smyrna', 'Constantinople', 'Sofia', 'Bucuresti', 'Budapest', 'Kyiv', 'Kharkov', 'Moskva']\n",
      "['Palermo', 'Smyrna', 'Constantinople', 'Sofia', 'Bucuresti', 'Budapest', 'Kyiv', 'Smolensk', 'Moskva']\n",
      "['Palermo', 'Smyrna', 'Constantinople', 'Sofia', 'Bucuresti', 'Kyiv', 'Kharkov', 'Moskva']\n",
      "['Palermo', 'Smyrna', 'Constantinople', 'Sofia', 'Bucuresti', 'Kyiv', 'Smolensk', 'Moskva']\n",
      "['Palermo', 'Smyrna', 'Constantinople', 'Sofia', 'Bucuresti', 'Kyiv', 'Wilno', 'Smolensk', 'Moskva']\n",
      "['Palermo', 'Smyrna', 'Constantinople', 'Sofia', 'Bucuresti', 'Kyiv', 'Wilno', 'Petrograd', 'Moskva']\n",
      "['Palermo', 'Smyrna', 'Constantinople', 'Sofia', 'Sarajevo', 'Budapest', 'Kyiv', 'Kharkov', 'Moskva']\n",
      "['Palermo', 'Smyrna', 'Constantinople', 'Sofia', 'Sarajevo', 'Budapest', 'Kyiv', 'Smolensk', 'Moskva']\n",
      "['Palermo', 'Smyrna', 'Constantinople', 'Bucuresti', 'Sevastopol', 'Sochi', 'Rostov', 'Kharkov', 'Moskva']\n",
      "['Palermo', 'Smyrna', 'Constantinople', 'Bucuresti', 'Sevastopol', 'Rostov', 'Kharkov', 'Moskva']\n",
      "['Palermo', 'Smyrna', 'Constantinople', 'Bucuresti', 'Budapest', 'Kyiv', 'Kharkov', 'Moskva']\n",
      "['Palermo', 'Smyrna', 'Constantinople', 'Bucuresti', 'Budapest', 'Kyiv', 'Smolensk', 'Moskva']\n",
      "['Palermo', 'Smyrna', 'Constantinople', 'Bucuresti', 'Budapest', 'Kyiv', 'Wilno', 'Smolensk', 'Moskva']\n",
      "['Palermo', 'Smyrna', 'Constantinople', 'Bucuresti', 'Budapest', 'Kyiv', 'Wilno', 'Petrograd', 'Moskva']\n",
      "['Palermo', 'Smyrna', 'Constantinople', 'Bucuresti', 'Kyiv', 'Kharkov', 'Moskva']\n",
      "['Palermo', 'Smyrna', 'Constantinople', 'Bucuresti', 'Kyiv', 'Smolensk', 'Moskva']\n",
      "['Palermo', 'Smyrna', 'Constantinople', 'Bucuresti', 'Kyiv', 'Smolensk', 'Wilno', 'Petrograd', 'Moskva']\n",
      "['Palermo', 'Smyrna', 'Constantinople', 'Bucuresti', 'Kyiv', 'Wilno', 'Smolensk', 'Moskva']\n",
      "['Palermo', 'Smyrna', 'Constantinople', 'Bucuresti', 'Kyiv', 'Wilno', 'Riga', 'Petrograd', 'Moskva']\n",
      "['Palermo', 'Smyrna', 'Constantinople', 'Bucuresti', 'Kyiv', 'Wilno', 'Petrograd', 'Moskva']\n",
      "['Palermo', 'Smyrna', 'Constantinople', 'Bucuresti', 'Kyiv', 'Warszawa', 'Wilno', 'Smolensk', 'Moskva']\n",
      "['Palermo', 'Smyrna', 'Constantinople', 'Bucuresti', 'Kyiv', 'Warszawa', 'Wilno', 'Petrograd', 'Moskva']\n",
      "['Palermo', 'Smyrna', 'Athina', 'Sofia', 'Constantinople', 'Sevastopol', 'Rostov', 'Kharkov', 'Moskva']\n",
      "['Palermo', 'Smyrna', 'Athina', 'Sofia', 'Constantinople', 'Bucuresti', 'Kyiv', 'Kharkov', 'Moskva']\n",
      "['Palermo', 'Smyrna', 'Athina', 'Sofia', 'Constantinople', 'Bucuresti', 'Kyiv', 'Smolensk', 'Moskva']\n",
      "['Palermo', 'Smyrna', 'Athina', 'Sofia', 'Bucuresti', 'Sevastopol', 'Rostov', 'Kharkov', 'Moskva']\n",
      "['Palermo', 'Smyrna', 'Athina', 'Sofia', 'Bucuresti', 'Budapest', 'Kyiv', 'Kharkov', 'Moskva']\n",
      "['Palermo', 'Smyrna', 'Athina', 'Sofia', 'Bucuresti', 'Budapest', 'Kyiv', 'Smolensk', 'Moskva']\n",
      "['Palermo', 'Smyrna', 'Athina', 'Sofia', 'Bucuresti', 'Kyiv', 'Kharkov', 'Moskva']\n",
      "['Palermo', 'Smyrna', 'Athina', 'Sofia', 'Bucuresti', 'Kyiv', 'Smolensk', 'Moskva']\n",
      "['Palermo', 'Smyrna', 'Athina', 'Sofia', 'Bucuresti', 'Kyiv', 'Wilno', 'Smolensk', 'Moskva']\n",
      "['Palermo', 'Smyrna', 'Athina', 'Sofia', 'Bucuresti', 'Kyiv', 'Wilno', 'Petrograd', 'Moskva']\n",
      "['Palermo', 'Smyrna', 'Athina', 'Sofia', 'Sarajevo', 'Budapest', 'Kyiv', 'Kharkov', 'Moskva']\n",
      "['Palermo', 'Smyrna', 'Athina', 'Sofia', 'Sarajevo', 'Budapest', 'Kyiv', 'Smolensk', 'Moskva']\n",
      "['Palermo', 'Smyrna', 'Athina', 'Sarajevo', 'Budapest', 'Kyiv', 'Kharkov', 'Moskva']\n",
      "['Palermo', 'Smyrna', 'Athina', 'Sarajevo', 'Budapest', 'Kyiv', 'Smolensk', 'Moskva']\n",
      "['Palermo', 'Smyrna', 'Athina', 'Sarajevo', 'Budapest', 'Kyiv', 'Wilno', 'Smolensk', 'Moskva']\n",
      "['Palermo', 'Smyrna', 'Athina', 'Sarajevo', 'Budapest', 'Kyiv', 'Wilno', 'Petrograd', 'Moskva']\n",
      "['Palermo', 'Smyrna', 'Athina', 'Sarajevo', 'Budapest', 'Bucuresti', 'Kyiv', 'Kharkov', 'Moskva']\n",
      "['Palermo', 'Smyrna', 'Athina', 'Sarajevo', 'Budapest', 'Bucuresti', 'Kyiv', 'Smolensk', 'Moskva']\n",
      "['Palermo', 'Smyrna', 'Athina', 'Sarajevo', 'Sofia', 'Bucuresti', 'Kyiv', 'Kharkov', 'Moskva']\n",
      "['Palermo', 'Smyrna', 'Athina', 'Sarajevo', 'Sofia', 'Bucuresti', 'Kyiv', 'Smolensk', 'Moskva']\n",
      "['Palermo', 'Smyrna', 'Athina', 'Sarajevo', 'Zagrab', 'Budapest', 'Kyiv', 'Kharkov', 'Moskva']\n",
      "['Palermo', 'Smyrna', 'Athina', 'Sarajevo', 'Zagrab', 'Budapest', 'Kyiv', 'Smolensk', 'Moskva']\n",
      "['Palermo', 'Brindisi', 'Athina', 'Smyrna', 'Constantinople', 'Sevastopol', 'Rostov', 'Kharkov', 'Moskva']\n",
      "['Palermo', 'Brindisi', 'Athina', 'Smyrna', 'Constantinople', 'Bucuresti', 'Kyiv', 'Kharkov', 'Moskva']\n",
      "['Palermo', 'Brindisi', 'Athina', 'Smyrna', 'Constantinople', 'Bucuresti', 'Kyiv', 'Smolensk', 'Moskva']\n",
      "['Palermo', 'Brindisi', 'Athina', 'Sofia', 'Constantinople', 'Sevastopol', 'Rostov', 'Kharkov', 'Moskva']\n",
      "['Palermo', 'Brindisi', 'Athina', 'Sofia', 'Constantinople', 'Bucuresti', 'Kyiv', 'Kharkov', 'Moskva']\n",
      "['Palermo', 'Brindisi', 'Athina', 'Sofia', 'Constantinople', 'Bucuresti', 'Kyiv', 'Smolensk', 'Moskva']\n",
      "['Palermo', 'Brindisi', 'Athina', 'Sofia', 'Bucuresti', 'Sevastopol', 'Rostov', 'Kharkov', 'Moskva']\n",
      "['Palermo', 'Brindisi', 'Athina', 'Sofia', 'Bucuresti', 'Budapest', 'Kyiv', 'Kharkov', 'Moskva']\n",
      "['Palermo', 'Brindisi', 'Athina', 'Sofia', 'Bucuresti', 'Budapest', 'Kyiv', 'Smolensk', 'Moskva']\n",
      "['Palermo', 'Brindisi', 'Athina', 'Sofia', 'Bucuresti', 'Kyiv', 'Kharkov', 'Moskva']\n",
      "['Palermo', 'Brindisi', 'Athina', 'Sofia', 'Bucuresti', 'Kyiv', 'Smolensk', 'Moskva']\n",
      "['Palermo', 'Brindisi', 'Athina', 'Sofia', 'Bucuresti', 'Kyiv', 'Wilno', 'Smolensk', 'Moskva']\n",
      "['Palermo', 'Brindisi', 'Athina', 'Sofia', 'Bucuresti', 'Kyiv', 'Wilno', 'Petrograd', 'Moskva']\n",
      "['Palermo', 'Brindisi', 'Athina', 'Sofia', 'Sarajevo', 'Budapest', 'Kyiv', 'Kharkov', 'Moskva']\n",
      "['Palermo', 'Brindisi', 'Athina', 'Sofia', 'Sarajevo', 'Budapest', 'Kyiv', 'Smolensk', 'Moskva']\n",
      "['Palermo', 'Brindisi', 'Athina', 'Sarajevo', 'Budapest', 'Kyiv', 'Kharkov', 'Moskva']\n",
      "['Palermo', 'Brindisi', 'Athina', 'Sarajevo', 'Budapest', 'Kyiv', 'Smolensk', 'Moskva']\n",
      "['Palermo', 'Brindisi', 'Athina', 'Sarajevo', 'Budapest', 'Kyiv', 'Wilno', 'Smolensk', 'Moskva']\n",
      "['Palermo', 'Brindisi', 'Athina', 'Sarajevo', 'Budapest', 'Kyiv', 'Wilno', 'Petrograd', 'Moskva']\n",
      "['Palermo', 'Brindisi', 'Athina', 'Sarajevo', 'Budapest', 'Bucuresti', 'Kyiv', 'Kharkov', 'Moskva']\n",
      "['Palermo', 'Brindisi', 'Athina', 'Sarajevo', 'Budapest', 'Bucuresti', 'Kyiv', 'Smolensk', 'Moskva']\n",
      "['Palermo', 'Brindisi', 'Athina', 'Sarajevo', 'Sofia', 'Bucuresti', 'Kyiv', 'Kharkov', 'Moskva']\n",
      "['Palermo', 'Brindisi', 'Athina', 'Sarajevo', 'Sofia', 'Bucuresti', 'Kyiv', 'Smolensk', 'Moskva']\n",
      "['Palermo', 'Brindisi', 'Athina', 'Sarajevo', 'Zagrab', 'Budapest', 'Kyiv', 'Kharkov', 'Moskva']\n",
      "['Palermo', 'Brindisi', 'Athina', 'Sarajevo', 'Zagrab', 'Budapest', 'Kyiv', 'Smolensk', 'Moskva']\n",
      "['Palermo', 'Brindisi', 'Roma', 'Venezia', 'Zagrab', 'Budapest', 'Kyiv', 'Kharkov', 'Moskva']\n",
      "['Palermo', 'Brindisi', 'Roma', 'Venezia', 'Zagrab', 'Budapest', 'Kyiv', 'Smolensk', 'Moskva']\n",
      "['Palermo', 'Roma', 'Brindisi', 'Athina', 'Sofia', 'Bucuresti', 'Kyiv', 'Kharkov', 'Moskva']\n",
      "['Palermo', 'Roma', 'Brindisi', 'Athina', 'Sofia', 'Bucuresti', 'Kyiv', 'Smolensk', 'Moskva']\n",
      "['Palermo', 'Roma', 'Brindisi', 'Athina', 'Sarajevo', 'Budapest', 'Kyiv', 'Kharkov', 'Moskva']\n",
      "['Palermo', 'Roma', 'Brindisi', 'Athina', 'Sarajevo', 'Budapest', 'Kyiv', 'Smolensk', 'Moskva']\n",
      "['Palermo', 'Roma', 'Venezia', 'Munchen', 'Wien', 'Warszawa', 'Kyiv', 'Kharkov', 'Moskva']\n",
      "['Palermo', 'Roma', 'Venezia', 'Munchen', 'Wien', 'Warszawa', 'Kyiv', 'Smolensk', 'Moskva']\n",
      "['Palermo', 'Roma', 'Venezia', 'Munchen', 'Wien', 'Warszawa', 'Wilno', 'Smolensk', 'Moskva']\n",
      "['Palermo', 'Roma', 'Venezia', 'Munchen', 'Wien', 'Warszawa', 'Wilno', 'Petrograd', 'Moskva']\n",
      "['Palermo', 'Roma', 'Venezia', 'Munchen', 'Wien', 'Budapest', 'Kyiv', 'Kharkov', 'Moskva']\n",
      "['Palermo', 'Roma', 'Venezia', 'Munchen', 'Wien', 'Budapest', 'Kyiv', 'Smolensk', 'Moskva']\n",
      "['Palermo', 'Roma', 'Venezia', 'Munchen', 'Wien', 'Budapest', 'Kyiv', 'Kharkov', 'Moskva']\n",
      "['Palermo', 'Roma', 'Venezia', 'Munchen', 'Wien', 'Budapest', 'Kyiv', 'Smolensk', 'Moskva']\n",
      "['Palermo', 'Roma', 'Venezia', 'Zagrab', 'Budapest', 'Kyiv', 'Kharkov', 'Moskva']\n",
      "['Palermo', 'Roma', 'Venezia', 'Zagrab', 'Budapest', 'Kyiv', 'Smolensk', 'Moskva']\n",
      "['Palermo', 'Roma', 'Venezia', 'Zagrab', 'Budapest', 'Kyiv', 'Wilno', 'Smolensk', 'Moskva']\n",
      "['Palermo', 'Roma', 'Venezia', 'Zagrab', 'Budapest', 'Kyiv', 'Wilno', 'Petrograd', 'Moskva']\n",
      "['Palermo', 'Roma', 'Venezia', 'Zagrab', 'Budapest', 'Bucuresti', 'Kyiv', 'Kharkov', 'Moskva']\n",
      "['Palermo', 'Roma', 'Venezia', 'Zagrab', 'Budapest', 'Bucuresti', 'Kyiv', 'Smolensk', 'Moskva']\n",
      "['Palermo', 'Roma', 'Venezia', 'Zagrab', 'Sarajevo', 'Budapest', 'Kyiv', 'Kharkov', 'Moskva']\n",
      "['Palermo', 'Roma', 'Venezia', 'Zagrab', 'Sarajevo', 'Budapest', 'Kyiv', 'Smolensk', 'Moskva']\n",
      "['Palermo', 'Roma', 'Venezia', 'Zagrab', 'Wien', 'Warszawa', 'Kyiv', 'Kharkov', 'Moskva']\n",
      "['Palermo', 'Roma', 'Venezia', 'Zagrab', 'Wien', 'Warszawa', 'Kyiv', 'Smolensk', 'Moskva']\n",
      "['Palermo', 'Roma', 'Venezia', 'Zagrab', 'Wien', 'Warszawa', 'Wilno', 'Smolensk', 'Moskva']\n",
      "['Palermo', 'Roma', 'Venezia', 'Zagrab', 'Wien', 'Warszawa', 'Wilno', 'Petrograd', 'Moskva']\n",
      "['Palermo', 'Roma', 'Venezia', 'Zagrab', 'Wien', 'Budapest', 'Kyiv', 'Kharkov', 'Moskva']\n",
      "['Palermo', 'Roma', 'Venezia', 'Zagrab', 'Wien', 'Budapest', 'Kyiv', 'Smolensk', 'Moskva']\n",
      "['Palermo', 'Roma', 'Venezia', 'Zagrab', 'Wien', 'Budapest', 'Kyiv', 'Kharkov', 'Moskva']\n",
      "['Palermo', 'Roma', 'Venezia', 'Zagrab', 'Wien', 'Budapest', 'Kyiv', 'Smolensk', 'Moskva']\n"
     ]
    }
   ],
   "source": [
    "for p in nx.all_simple_paths(G,'Palermo','Moskva',cutoff=8):\n",
    "    print(p)"
   ]
  },
  {
   "cell_type": "code",
   "execution_count": null,
   "metadata": {},
   "outputs": [],
   "source": []
  }
 ],
 "metadata": {
  "kernelspec": {
   "display_name": "Python 3",
   "language": "python",
   "name": "python3"
  },
  "language_info": {
   "codemirror_mode": {
    "name": "ipython",
    "version": 3
   },
   "file_extension": ".py",
   "mimetype": "text/x-python",
   "name": "python",
   "nbconvert_exporter": "python",
   "pygments_lexer": "ipython3",
   "version": "3.7.1"
  }
 },
 "nbformat": 4,
 "nbformat_minor": 2
}
