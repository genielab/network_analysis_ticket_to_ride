{
 "cells": [
  {
   "cell_type": "code",
   "execution_count": 33,
   "metadata": {},
   "outputs": [],
   "source": [
    "import os\n",
    "import re\n",
    "import networkx as nx\n",
    "import matplotlib.pyplot as plt\n",
    "import pandas as pd\n",
    "import json\n",
    "import math\n",
    "\n",
    "%matplotlib inline\n",
    "%config IPCompleter.greedy=True\n",
    "\n",
    "pd.set_option('display.max_colwidth', -1)"
   ]
  },
  {
   "cell_type": "code",
   "execution_count": 34,
   "metadata": {},
   "outputs": [],
   "source": [
    "data_dir='/Users/genie/dev/projects/github/network_analysis_ticket_to_ride/data/'\n",
    "destinations_path = os.path.join(data_dir,'destinations.txt')\n",
    "routes_path = os.path.join(data_dir,'trainroutes.txt')"
   ]
  },
  {
   "cell_type": "code",
   "execution_count": 35,
   "metadata": {},
   "outputs": [],
   "source": [
    "pattern = re.compile('\\\\w+')"
   ]
  },
  {
   "cell_type": "code",
   "execution_count": 36,
   "metadata": {},
   "outputs": [],
   "source": [
    "Gm = nx.MultiGraph()"
   ]
  },
  {
   "cell_type": "code",
   "execution_count": 37,
   "metadata": {},
   "outputs": [],
   "source": [
    "# functions\n",
    "\n",
    "# function to calculate points from segment length\n",
    "def points(distance):\n",
    "    x = [0, 1, 2, 4, 7, 0, 15, 0, 21]\n",
    "    return x[distance]\n",
    "\n",
    "def inverse_weight(distance):\n",
    "    return(1/distance)\n",
    "\n",
    "# distance of path p in graph g\n",
    "def distance_of_path(g, p):\n",
    "    d = sum([g.edges[p[e],p[e+1]]['distance'] for e in range(len(p)-1)])\n",
    "    return d\n",
    "\n",
    "# points of path p in graph g\n",
    "def points_of_path(g, p):\n",
    "    d = sum([g.edges[p[e],p[e+1]]['points'] for e in range(len(p)-1)])\n",
    "    return d\n",
    "\n",
    "# return all paths between u and v in graph g up to distance min(u,v)+2\n",
    "def alternate_scoring_paths_with_cutoff(g, u, v, cutoff):\n",
    "    sp_length = nx.shortest_path_length(g,u,v)\n",
    "    paths = nx.all_simple_paths(g, u, v, cutoff=sp_length+2)\n",
    "    return list(paths)"
   ]
  },
  {
   "cell_type": "code",
   "execution_count": 38,
   "metadata": {},
   "outputs": [],
   "source": [
    "# construct graph\n",
    "\n",
    "Gm.clear()\n",
    "\n",
    "with open(routes_path) as f:\n",
    "    for line in f:\n",
    "        city1, city2, distance, route_type, color, is_multi = pattern.findall(line)\n",
    "        distance = int(distance)\n",
    "        if(Gm.has_edge(city1,city2)==False):\n",
    "            Gm.add_edge(city1, city2, key=0, distance=distance, route_type=route_type, color=color, points=points(distance), \n",
    "                   weight=distance, importance=0)\n",
    "\n",
    "# convert multigraph to simple graph            \n",
    "G = nx.Graph(Gm)"
   ]
  },
  {
   "cell_type": "code",
   "execution_count": 39,
   "metadata": {},
   "outputs": [
    {
     "name": "stdout",
     "output_type": "stream",
     "text": [
      "Paris-7\n",
      "Kyiv-6\n",
      "Frankfurt-6\n",
      "Pamplona-5\n",
      "Marseille-5\n",
      "Sevastopol-5\n",
      "Constantinople-5\n",
      "Bucuresti-5\n",
      "Wilno-5\n",
      "Warszawa-5\n"
     ]
    }
   ],
   "source": [
    "for n,v in sorted(Gm.degree, key=lambda x: x[1], reverse=True)[:10]:\n",
    "    print('{n}-{v}'.format(n=n,v=v))"
   ]
  },
  {
   "cell_type": "code",
   "execution_count": 40,
   "metadata": {},
   "outputs": [
    {
     "name": "stdout",
     "output_type": "stream",
     "text": [
      "Edinburgh-1\n",
      "Lisboa-2\n",
      "Cadiz-2\n",
      "Stockholm-2\n",
      "Kobenhavn-2\n",
      "Barcelona-3\n",
      "Brest-3\n",
      "London-3\n",
      "Erzurum-3\n",
      "Angora-3\n"
     ]
    }
   ],
   "source": [
    "for n,v in sorted(Gm.degree, key=lambda x: x[1], reverse=False)[:10]:\n",
    "    print('{n}-{v}'.format(n=n,v=v))"
   ]
  },
  {
   "cell_type": "code",
   "execution_count": 41,
   "metadata": {},
   "outputs": [],
   "source": [
    "# construct shortest paths of destinations\n",
    "temp=list()\n",
    "with open(destinations_path) as f:\n",
    "    for line in f:\n",
    "        source, destination, card_points = pattern.findall(line)\n",
    "        card_points=int(card_points)\n",
    "        p1=list()\n",
    "        points1=0\n",
    "        distance1=0\n",
    "        length1=0\n",
    "        for p in nx.all_shortest_paths(G,source,destination,weight='weight'):\n",
    "            _points=points_of_path(G,p)\n",
    "            if(_points>points1):\n",
    "                points1=_points\n",
    "                distance1=distance_of_path(G,p)\n",
    "                p1=p\n",
    "                length1=len(p)\n",
    "        total_points=card_points+points1\n",
    "        temp.append((source,destination,card_points,length1,distance1,total_points,'-'.join(p1)))\n",
    "        \n",
    "destinations_df = pd.DataFrame.from_records(temp, columns=['source','destination','card_points',\n",
    "                                                           'sp_length','sp_cost','sp_total_points','sp_path'])\n",
    "del temp"
   ]
  },
  {
   "cell_type": "code",
   "execution_count": 42,
   "metadata": {},
   "outputs": [],
   "source": [
    "#  calculate points-per-capita\n",
    "destinations_df['sp_points_per_capita'] = destinations_df.apply(lambda row: round(row['sp_total_points']/row['sp_cost'],2), axis=1)\n",
    "\n",
    "# connectivity\n",
    "destinations_df['connectivity'] = destinations_df.apply(lambda row: nx.edge_connectivity(G,row['source'],row['destination']), axis=1)"
   ]
  },
  {
   "cell_type": "code",
   "execution_count": 43,
   "metadata": {},
   "outputs": [
    {
     "data": {
      "text/html": [
       "<div>\n",
       "<style scoped>\n",
       "    .dataframe tbody tr th:only-of-type {\n",
       "        vertical-align: middle;\n",
       "    }\n",
       "\n",
       "    .dataframe tbody tr th {\n",
       "        vertical-align: top;\n",
       "    }\n",
       "\n",
       "    .dataframe thead th {\n",
       "        text-align: right;\n",
       "    }\n",
       "</style>\n",
       "<table border=\"1\" class=\"dataframe\">\n",
       "  <thead>\n",
       "    <tr style=\"text-align: right;\">\n",
       "      <th></th>\n",
       "      <th>source</th>\n",
       "      <th>destination</th>\n",
       "      <th>card_points</th>\n",
       "      <th>sp_length</th>\n",
       "      <th>sp_cost</th>\n",
       "      <th>sp_total_points</th>\n",
       "      <th>sp_path</th>\n",
       "      <th>sp_points_per_capita</th>\n",
       "      <th>connectivity</th>\n",
       "    </tr>\n",
       "  </thead>\n",
       "  <tbody>\n",
       "    <tr>\n",
       "      <th>42</th>\n",
       "      <td>Palermo</td>\n",
       "      <td>Moskva</td>\n",
       "      <td>20</td>\n",
       "      <td>7</td>\n",
       "      <td>20</td>\n",
       "      <td>54</td>\n",
       "      <td>Palermo-Smyrna-Constantinople-Bucuresti-Kyiv-Smolensk-Moskva</td>\n",
       "      <td>2.70</td>\n",
       "      <td>3</td>\n",
       "    </tr>\n",
       "    <tr>\n",
       "      <th>43</th>\n",
       "      <td>Kobenhavn</td>\n",
       "      <td>Erzurum</td>\n",
       "      <td>21</td>\n",
       "      <td>8</td>\n",
       "      <td>21</td>\n",
       "      <td>53</td>\n",
       "      <td>Kobenhavn-Essen-Berlin-Wien-Budapest-Bucuresti-Sevastopol-Erzurum</td>\n",
       "      <td>2.52</td>\n",
       "      <td>2</td>\n",
       "    </tr>\n",
       "    <tr>\n",
       "      <th>45</th>\n",
       "      <td>Cadiz</td>\n",
       "      <td>Stockholm</td>\n",
       "      <td>21</td>\n",
       "      <td>8</td>\n",
       "      <td>21</td>\n",
       "      <td>50</td>\n",
       "      <td>Cadiz-Madrid-Pamplona-Paris-Frankfurt-Essen-Kobenhavn-Stockholm</td>\n",
       "      <td>2.38</td>\n",
       "      <td>2</td>\n",
       "    </tr>\n",
       "    <tr>\n",
       "      <th>41</th>\n",
       "      <td>Brest</td>\n",
       "      <td>Petrograd</td>\n",
       "      <td>20</td>\n",
       "      <td>7</td>\n",
       "      <td>20</td>\n",
       "      <td>50</td>\n",
       "      <td>Brest-Paris-Frankfurt-Berlin-Warszawa-Wilno-Petrograd</td>\n",
       "      <td>2.50</td>\n",
       "      <td>3</td>\n",
       "    </tr>\n",
       "    <tr>\n",
       "      <th>40</th>\n",
       "      <td>Lisboa</td>\n",
       "      <td>Danzig</td>\n",
       "      <td>20</td>\n",
       "      <td>7</td>\n",
       "      <td>20</td>\n",
       "      <td>50</td>\n",
       "      <td>Lisboa-Madrid-Pamplona-Paris-Frankfurt-Berlin-Danzig</td>\n",
       "      <td>2.50</td>\n",
       "      <td>2</td>\n",
       "    </tr>\n",
       "    <tr>\n",
       "      <th>44</th>\n",
       "      <td>Edinburgh</td>\n",
       "      <td>Athina</td>\n",
       "      <td>21</td>\n",
       "      <td>9</td>\n",
       "      <td>20</td>\n",
       "      <td>48</td>\n",
       "      <td>Edinburgh-London-Dieppe-Paris-Zurich-Venezia-Roma-Brindisi-Athina</td>\n",
       "      <td>2.40</td>\n",
       "      <td>1</td>\n",
       "    </tr>\n",
       "    <tr>\n",
       "      <th>39</th>\n",
       "      <td>Frankfurt</td>\n",
       "      <td>Smolensk</td>\n",
       "      <td>13</td>\n",
       "      <td>5</td>\n",
       "      <td>13</td>\n",
       "      <td>32</td>\n",
       "      <td>Frankfurt-Berlin-Warszawa-Wilno-Smolensk</td>\n",
       "      <td>2.46</td>\n",
       "      <td>3</td>\n",
       "    </tr>\n",
       "    <tr>\n",
       "      <th>38</th>\n",
       "      <td>Amsterdam</td>\n",
       "      <td>Wilno</td>\n",
       "      <td>12</td>\n",
       "      <td>5</td>\n",
       "      <td>12</td>\n",
       "      <td>29</td>\n",
       "      <td>Amsterdam-Frankfurt-Berlin-Warszawa-Wilno</td>\n",
       "      <td>2.42</td>\n",
       "      <td>4</td>\n",
       "    </tr>\n",
       "    <tr>\n",
       "      <th>37</th>\n",
       "      <td>Berlin</td>\n",
       "      <td>Moskva</td>\n",
       "      <td>12</td>\n",
       "      <td>5</td>\n",
       "      <td>12</td>\n",
       "      <td>29</td>\n",
       "      <td>Berlin-Warszawa-Wilno-Smolensk-Moskva</td>\n",
       "      <td>2.42</td>\n",
       "      <td>3</td>\n",
       "    </tr>\n",
       "    <tr>\n",
       "      <th>32</th>\n",
       "      <td>Essen</td>\n",
       "      <td>Kyiv</td>\n",
       "      <td>10</td>\n",
       "      <td>4</td>\n",
       "      <td>10</td>\n",
       "      <td>26</td>\n",
       "      <td>Essen-Berlin-Warszawa-Kyiv</td>\n",
       "      <td>2.60</td>\n",
       "      <td>4</td>\n",
       "    </tr>\n",
       "  </tbody>\n",
       "</table>\n",
       "</div>"
      ],
      "text/plain": [
       "       source destination  card_points  sp_length  sp_cost  sp_total_points  \\\n",
       "42  Palermo    Moskva      20           7          20       54                \n",
       "43  Kobenhavn  Erzurum     21           8          21       53                \n",
       "45  Cadiz      Stockholm   21           8          21       50                \n",
       "41  Brest      Petrograd   20           7          20       50                \n",
       "40  Lisboa     Danzig      20           7          20       50                \n",
       "44  Edinburgh  Athina      21           9          20       48                \n",
       "39  Frankfurt  Smolensk    13           5          13       32                \n",
       "38  Amsterdam  Wilno       12           5          12       29                \n",
       "37  Berlin     Moskva      12           5          12       29                \n",
       "32  Essen      Kyiv        10           4          10       26                \n",
       "\n",
       "                                                              sp_path  \\\n",
       "42  Palermo-Smyrna-Constantinople-Bucuresti-Kyiv-Smolensk-Moskva        \n",
       "43  Kobenhavn-Essen-Berlin-Wien-Budapest-Bucuresti-Sevastopol-Erzurum   \n",
       "45  Cadiz-Madrid-Pamplona-Paris-Frankfurt-Essen-Kobenhavn-Stockholm     \n",
       "41  Brest-Paris-Frankfurt-Berlin-Warszawa-Wilno-Petrograd               \n",
       "40  Lisboa-Madrid-Pamplona-Paris-Frankfurt-Berlin-Danzig                \n",
       "44  Edinburgh-London-Dieppe-Paris-Zurich-Venezia-Roma-Brindisi-Athina   \n",
       "39  Frankfurt-Berlin-Warszawa-Wilno-Smolensk                            \n",
       "38  Amsterdam-Frankfurt-Berlin-Warszawa-Wilno                           \n",
       "37  Berlin-Warszawa-Wilno-Smolensk-Moskva                               \n",
       "32  Essen-Berlin-Warszawa-Kyiv                                          \n",
       "\n",
       "    sp_points_per_capita  connectivity  \n",
       "42  2.70                  3             \n",
       "43  2.52                  2             \n",
       "45  2.38                  2             \n",
       "41  2.50                  3             \n",
       "40  2.50                  2             \n",
       "44  2.40                  1             \n",
       "39  2.46                  3             \n",
       "38  2.42                  4             \n",
       "37  2.42                  3             \n",
       "32  2.60                  4             "
      ]
     },
     "execution_count": 43,
     "metadata": {},
     "output_type": "execute_result"
    }
   ],
   "source": [
    "destinations_df.sort_values(['sp_total_points'],ascending=False).head(10)"
   ]
  },
  {
   "cell_type": "code",
   "execution_count": 44,
   "metadata": {},
   "outputs": [
    {
     "data": {
      "text/html": [
       "<div>\n",
       "<style scoped>\n",
       "    .dataframe tbody tr th:only-of-type {\n",
       "        vertical-align: middle;\n",
       "    }\n",
       "\n",
       "    .dataframe tbody tr th {\n",
       "        vertical-align: top;\n",
       "    }\n",
       "\n",
       "    .dataframe thead th {\n",
       "        text-align: right;\n",
       "    }\n",
       "</style>\n",
       "<table border=\"1\" class=\"dataframe\">\n",
       "  <thead>\n",
       "    <tr style=\"text-align: right;\">\n",
       "      <th></th>\n",
       "      <th>path</th>\n",
       "      <th>min_req_trains</th>\n",
       "      <th>points</th>\n",
       "      <th>points_per_capita</th>\n",
       "    </tr>\n",
       "  </thead>\n",
       "  <tbody>\n",
       "    <tr>\n",
       "      <th>2</th>\n",
       "      <td>[Lisboa, Madrid, Pamplona, Paris, Frankfurt, Berlin, Warszawa, Kyiv, Kharkov, Rostov]</td>\n",
       "      <td>30</td>\n",
       "      <td>29</td>\n",
       "      <td>0.97</td>\n",
       "    </tr>\n",
       "    <tr>\n",
       "      <th>0</th>\n",
       "      <td>[Lisboa, Madrid, Barcelona, Marseille, Roma, Palermo, Smyrna, Constantinople, Sevastopol, Rostov]</td>\n",
       "      <td>33</td>\n",
       "      <td>29</td>\n",
       "      <td>0.88</td>\n",
       "    </tr>\n",
       "    <tr>\n",
       "      <th>1</th>\n",
       "      <td>[Lisboa, Madrid, Pamplona, Marseille, Roma, Palermo, Smyrna, Constantinople, Sevastopol, Rostov]</td>\n",
       "      <td>34</td>\n",
       "      <td>29</td>\n",
       "      <td>0.85</td>\n",
       "    </tr>\n",
       "  </tbody>\n",
       "</table>\n",
       "</div>"
      ],
      "text/plain": [
       "                                                                                                path  \\\n",
       "2  [Lisboa, Madrid, Pamplona, Paris, Frankfurt, Berlin, Warszawa, Kyiv, Kharkov, Rostov]               \n",
       "0  [Lisboa, Madrid, Barcelona, Marseille, Roma, Palermo, Smyrna, Constantinople, Sevastopol, Rostov]   \n",
       "1  [Lisboa, Madrid, Pamplona, Marseille, Roma, Palermo, Smyrna, Constantinople, Sevastopol, Rostov]    \n",
       "\n",
       "   min_req_trains  points  points_per_capita  \n",
       "2  30              29      0.97               \n",
       "0  33              29      0.88               \n",
       "1  34              29      0.85               "
      ]
     },
     "execution_count": 44,
     "metadata": {},
     "output_type": "execute_result"
    }
   ],
   "source": [
    "# compare alternate paths between given cities\n",
    "temp = list()\n",
    "for p in nx.all_shortest_paths(G,'Lisboa','Rostov',weight=None):\n",
    "    distance=distance_of_path(G,p)\n",
    "    points2=points_of_path(G,p)\n",
    "    per_capita=round(points1/distance,2)\n",
    "    temp.append((p,distance,points1,per_capita))\n",
    "\n",
    "temp_df = pd.DataFrame.from_records(temp,columns=['path','min_req_trains','points','points_per_capita'])\n",
    "del temp\n",
    "\n",
    "temp_df.sort_values(['points_per_capita'],ascending=False).head(5)"
   ]
  },
  {
   "cell_type": "code",
   "execution_count": 45,
   "metadata": {},
   "outputs": [],
   "source": [
    "# compare all paths between given cities\n",
    "temp = list()\n",
    "u = 'Palermo'\n",
    "v = 'Moskva'\n",
    "cutoff = nx.shortest_path_length(G, u, v) + 2\n",
    "paths = alternate_scoring_paths_with_cutoff(G, u, v, cutoff)\n",
    "for p in paths:\n",
    "    length1 = len(p)\n",
    "    cost1 = distance_of_path(G, p)\n",
    "    points1 = int(destinations_df[(destinations_df['source']==u) & (destinations_df['destination']==v)]['card_points'])\n",
    "    points2 = points_of_path(G, p)\n",
    "    total_points = points1 + points2\n",
    "    per_capita=round(total_points/cost1,2)\n",
    "    temp.append((p,length1,cost1,total_points,per_capita))\n",
    "\n",
    "temp_df = pd.DataFrame.from_records(temp,columns=['path','path_length','path_cost','path_total_points','path_points_per_capita'])\n",
    "del temp"
   ]
  },
  {
   "cell_type": "code",
   "execution_count": 46,
   "metadata": {},
   "outputs": [
    {
     "data": {
      "image/png": "[encoded data removed]",
      "text/plain": [
       "<Figure size 864x360 with 2 Axes>"
      ]
     },
     "metadata": {
      "needs_background": "light"
     },
     "output_type": "display_data"
    }
   ],
   "source": [
    "#histogram of all points for all alternate paths\n",
    "\n",
    "fig = plt.figure(figsize=(12,5))\n",
    "\n",
    "plt.subplot(1, 2, 1)\n",
    "plt.hist([temp_df['path_total_points']], label=\"Points\")\n",
    "plt.legend(loc='upper right')\n",
    "plt.title('Palermo-Moskva Alternate paths \\n Total Points distribution')\n",
    "\n",
    "plt.subplot(1, 2, 2)\n",
    "plt.hist([temp_df['path_cost']], label=\"Cost\")\n",
    "plt.legend(loc='upper right')\n",
    "plt.title('Palermo-Moskva Alternate paths \\n Cost for points distribution')\n",
    "\n",
    "plt.tight_layout()"
   ]
  },
  {
   "cell_type": "code",
   "execution_count": 47,
   "metadata": {},
   "outputs": [
    {
     "data": {
      "text/html": [
       "<div>\n",
       "<style scoped>\n",
       "    .dataframe tbody tr th:only-of-type {\n",
       "        vertical-align: middle;\n",
       "    }\n",
       "\n",
       "    .dataframe tbody tr th {\n",
       "        vertical-align: top;\n",
       "    }\n",
       "\n",
       "    .dataframe thead th {\n",
       "        text-align: right;\n",
       "    }\n",
       "</style>\n",
       "<table border=\"1\" class=\"dataframe\">\n",
       "  <thead>\n",
       "    <tr style=\"text-align: right;\">\n",
       "      <th></th>\n",
       "      <th>path</th>\n",
       "      <th>path_length</th>\n",
       "      <th>path_cost</th>\n",
       "      <th>path_total_points</th>\n",
       "      <th>path_points_per_capita</th>\n",
       "    </tr>\n",
       "  </thead>\n",
       "  <tbody>\n",
       "    <tr>\n",
       "      <th>23</th>\n",
       "      <td>[Palermo, Smyrna, Constantinople, Sevastopol, Bucuresti, Budapest, Kyiv, Kharkov, Moskva]</td>\n",
       "      <td>9</td>\n",
       "      <td>34</td>\n",
       "      <td>87</td>\n",
       "      <td>2.56</td>\n",
       "    </tr>\n",
       "    <tr>\n",
       "      <th>13</th>\n",
       "      <td>[Palermo, Smyrna, Angora, Constantinople, Bucuresti, Budapest, Kyiv, Kharkov, Moskva]</td>\n",
       "      <td>9</td>\n",
       "      <td>32</td>\n",
       "      <td>81</td>\n",
       "      <td>2.53</td>\n",
       "    </tr>\n",
       "    <tr>\n",
       "      <th>45</th>\n",
       "      <td>[Palermo, Smyrna, Constantinople, Bucuresti, Budapest, Kyiv, Wilno, Petrograd, Moskva]</td>\n",
       "      <td>9</td>\n",
       "      <td>31</td>\n",
       "      <td>79</td>\n",
       "      <td>2.55</td>\n",
       "    </tr>\n",
       "    <tr>\n",
       "      <th>74</th>\n",
       "      <td>[Palermo, Smyrna, Athina, Sarajevo, Zagrab, Budapest, Kyiv, Kharkov, Moskva]</td>\n",
       "      <td>9</td>\n",
       "      <td>31</td>\n",
       "      <td>79</td>\n",
       "      <td>2.55</td>\n",
       "    </tr>\n",
       "    <tr>\n",
       "      <th>71</th>\n",
       "      <td>[Palermo, Smyrna, Athina, Sarajevo, Budapest, Kyiv, Wilno, Petrograd, Moskva]</td>\n",
       "      <td>9</td>\n",
       "      <td>31</td>\n",
       "      <td>79</td>\n",
       "      <td>2.55</td>\n",
       "    </tr>\n",
       "  </tbody>\n",
       "</table>\n",
       "</div>"
      ],
      "text/plain": [
       "                                                                                         path  \\\n",
       "23  [Palermo, Smyrna, Constantinople, Sevastopol, Bucuresti, Budapest, Kyiv, Kharkov, Moskva]   \n",
       "13  [Palermo, Smyrna, Angora, Constantinople, Bucuresti, Budapest, Kyiv, Kharkov, Moskva]       \n",
       "45  [Palermo, Smyrna, Constantinople, Bucuresti, Budapest, Kyiv, Wilno, Petrograd, Moskva]      \n",
       "74  [Palermo, Smyrna, Athina, Sarajevo, Zagrab, Budapest, Kyiv, Kharkov, Moskva]                \n",
       "71  [Palermo, Smyrna, Athina, Sarajevo, Budapest, Kyiv, Wilno, Petrograd, Moskva]               \n",
       "\n",
       "    path_length  path_cost  path_total_points  path_points_per_capita  \n",
       "23  9            34         87                 2.56                    \n",
       "13  9            32         81                 2.53                    \n",
       "45  9            31         79                 2.55                    \n",
       "74  9            31         79                 2.55                    \n",
       "71  9            31         79                 2.55                    "
      ]
     },
     "execution_count": 47,
     "metadata": {},
     "output_type": "execute_result"
    }
   ],
   "source": [
    "temp_df.sort_values(['path_total_points'],ascending=False).head(5)"
   ]
  },
  {
   "cell_type": "code",
   "execution_count": 48,
   "metadata": {},
   "outputs": [
    {
     "data": {
      "text/html": [
       "<div>\n",
       "<style scoped>\n",
       "    .dataframe tbody tr th:only-of-type {\n",
       "        vertical-align: middle;\n",
       "    }\n",
       "\n",
       "    .dataframe tbody tr th {\n",
       "        vertical-align: top;\n",
       "    }\n",
       "\n",
       "    .dataframe thead th {\n",
       "        text-align: right;\n",
       "    }\n",
       "</style>\n",
       "<table border=\"1\" class=\"dataframe\">\n",
       "  <thead>\n",
       "    <tr style=\"text-align: right;\">\n",
       "      <th></th>\n",
       "      <th>path</th>\n",
       "      <th>path_length</th>\n",
       "      <th>path_cost</th>\n",
       "      <th>path_total_points</th>\n",
       "      <th>path_points_per_capita</th>\n",
       "    </tr>\n",
       "  </thead>\n",
       "  <tbody>\n",
       "    <tr>\n",
       "      <th>29</th>\n",
       "      <td>[Palermo, Smyrna, Constantinople, Sevastopol, Rostov, Kharkov, Moskva]</td>\n",
       "      <td>7</td>\n",
       "      <td>22</td>\n",
       "      <td>60</td>\n",
       "      <td>2.73</td>\n",
       "    </tr>\n",
       "    <tr>\n",
       "      <th>47</th>\n",
       "      <td>[Palermo, Smyrna, Constantinople, Bucuresti, Kyiv, Smolensk, Moskva]</td>\n",
       "      <td>7</td>\n",
       "      <td>20</td>\n",
       "      <td>54</td>\n",
       "      <td>2.70</td>\n",
       "    </tr>\n",
       "    <tr>\n",
       "      <th>46</th>\n",
       "      <td>[Palermo, Smyrna, Constantinople, Bucuresti, Kyiv, Kharkov, Moskva]</td>\n",
       "      <td>7</td>\n",
       "      <td>23</td>\n",
       "      <td>62</td>\n",
       "      <td>2.70</td>\n",
       "    </tr>\n",
       "    <tr>\n",
       "      <th>42</th>\n",
       "      <td>[Palermo, Smyrna, Constantinople, Bucuresti, Budapest, Kyiv, Kharkov, Moskva]</td>\n",
       "      <td>8</td>\n",
       "      <td>29</td>\n",
       "      <td>77</td>\n",
       "      <td>2.66</td>\n",
       "    </tr>\n",
       "    <tr>\n",
       "      <th>68</th>\n",
       "      <td>[Palermo, Smyrna, Athina, Sarajevo, Budapest, Kyiv, Kharkov, Moskva]</td>\n",
       "      <td>8</td>\n",
       "      <td>29</td>\n",
       "      <td>77</td>\n",
       "      <td>2.66</td>\n",
       "    </tr>\n",
       "  </tbody>\n",
       "</table>\n",
       "</div>"
      ],
      "text/plain": [
       "                                                                             path  \\\n",
       "29  [Palermo, Smyrna, Constantinople, Sevastopol, Rostov, Kharkov, Moskva]          \n",
       "47  [Palermo, Smyrna, Constantinople, Bucuresti, Kyiv, Smolensk, Moskva]            \n",
       "46  [Palermo, Smyrna, Constantinople, Bucuresti, Kyiv, Kharkov, Moskva]             \n",
       "42  [Palermo, Smyrna, Constantinople, Bucuresti, Budapest, Kyiv, Kharkov, Moskva]   \n",
       "68  [Palermo, Smyrna, Athina, Sarajevo, Budapest, Kyiv, Kharkov, Moskva]            \n",
       "\n",
       "    path_length  path_cost  path_total_points  path_points_per_capita  \n",
       "29  7            22         60                 2.73                    \n",
       "47  7            20         54                 2.70                    \n",
       "46  7            23         62                 2.70                    \n",
       "42  8            29         77                 2.66                    \n",
       "68  8            29         77                 2.66                    "
      ]
     },
     "execution_count": 48,
     "metadata": {},
     "output_type": "execute_result"
    }
   ],
   "source": [
    "temp_df.sort_values(['path_points_per_capita'],ascending=False).head(5)"
   ]
  },
  {
   "cell_type": "code",
   "execution_count": 49,
   "metadata": {},
   "outputs": [
    {
     "name": "stdout",
     "output_type": "stream",
     "text": [
      "Frankfurt - 0.21109636740071516\n",
      "Paris - 0.20014705369777835\n",
      "Berlin - 0.19125180375180373\n",
      "Kyiv - 0.18437449024405547\n",
      "Marseille - 0.15295250643076733\n"
     ]
    }
   ],
   "source": [
    "# betweenness centrality\n",
    "\n",
    "bc = nx.betweenness_centrality(G)\n",
    "top_bc = dict(sorted(bc.items(), key=lambda x: x[1], reverse=True)[:5])\n",
    "#print(json.dumps(top_bc, indent=4))\n",
    "\n",
    "for k,v in top_bc.items():\n",
    "    print('{} - {}'.format(k,v))"
   ]
  },
  {
   "cell_type": "code",
   "execution_count": 50,
   "metadata": {},
   "outputs": [
    {
     "data": {
      "text/plain": [
       "9"
      ]
     },
     "execution_count": 50,
     "metadata": {},
     "output_type": "execute_result"
    }
   ],
   "source": [
    "nx.diameter(G)"
   ]
  },
  {
   "cell_type": "code",
   "execution_count": 51,
   "metadata": {},
   "outputs": [
    {
     "name": "stdout",
     "output_type": "stream",
     "text": [
      "{\n",
      "    \"Lisboa\": 9,\n",
      "    \"Cadiz\": 9,\n",
      "    \"Edinburgh\": 9,\n",
      "    \"Erzurum\": 9,\n",
      "    \"Sochi\": 9,\n",
      "    \"Rostov\": 9,\n",
      "    \"Moskva\": 9,\n",
      "    \"Madrid\": 8,\n",
      "    \"Barcelona\": 8,\n",
      "    \"Brest\": 8,\n",
      "    \"Dieppe\": 8,\n",
      "    \"London\": 8,\n",
      "    \"Angora\": 8,\n",
      "    \"Sevastopol\": 8,\n",
      "    \"Constantinople\": 8,\n",
      "    \"Bucuresti\": 8,\n",
      "    \"Kharkov\": 8,\n",
      "    \"Smolensk\": 8,\n",
      "    \"Petrograd\": 8,\n",
      "    \"Sofia\": 8,\n",
      "    \"Pamplona\": 7,\n",
      "    \"Marseille\": 7,\n",
      "    \"Paris\": 7,\n",
      "    \"Bruxelles\": 7,\n",
      "    \"Amsterdam\": 7,\n",
      "    \"Smyrna\": 7,\n",
      "    \"Kyiv\": 7,\n",
      "    \"Wilno\": 7,\n",
      "    \"Budapest\": 7,\n",
      "    \"Riga\": 7,\n",
      "    \"Stockholm\": 7,\n",
      "    \"Palermo\": 7,\n",
      "    \"Athina\": 7,\n",
      "    \"Kobenhavn\": 7,\n",
      "    \"Sarajevo\": 7,\n",
      "    \"Brindisi\": 7,\n",
      "    \"Warszawa\": 6,\n",
      "    \"Danzig\": 6,\n",
      "    \"Essen\": 6,\n",
      "    \"Wien\": 6,\n",
      "    \"Zagrab\": 6,\n",
      "    \"Roma\": 6,\n",
      "    \"Frankfurt\": 6,\n",
      "    \"Zurich\": 6,\n",
      "    \"Berlin\": 5,\n",
      "    \"Venezia\": 5,\n",
      "    \"Munchen\": 5\n",
      "}\n"
     ]
    }
   ],
   "source": [
    "ecc = nx.eccentricity(G)\n",
    "ecc = dict(sorted(ecc.items(), key=lambda x: x[1], reverse=True))\n",
    "print(json.dumps(ecc, indent=4))"
   ]
  },
  {
   "cell_type": "code",
   "execution_count": 52,
   "metadata": {},
   "outputs": [
    {
     "name": "stdout",
     "output_type": "stream",
     "text": [
      "{\n",
      "    \"Lisboa\": 1.0,\n",
      "    \"Cadiz\": 1.0,\n",
      "    \"Madrid\": 0.3333333333333333,\n",
      "    \"Barcelona\": 0.6666666666666666,\n",
      "    \"Pamplona\": 0.4,\n",
      "    \"Marseille\": 0.3,\n",
      "    \"Paris\": 0.2857142857142857,\n",
      "    \"Brest\": 0.6666666666666666,\n",
      "    \"Dieppe\": 0.3333333333333333,\n",
      "    \"London\": 0,\n",
      "    \"Bruxelles\": 0.5,\n",
      "    \"Amsterdam\": 0.3333333333333333,\n",
      "    \"Edinburgh\": 0,\n",
      "    \"Erzurum\": 0.3333333333333333,\n",
      "    \"Angora\": 0.3333333333333333,\n",
      "    \"Sevastopol\": 0.3,\n",
      "    \"Sochi\": 0.6666666666666666,\n",
      "    \"Smyrna\": 0.16666666666666666,\n",
      "    \"Constantinople\": 0.3,\n",
      "    \"Rostov\": 0.3333333333333333,\n",
      "    \"Bucuresti\": 0.3,\n",
      "    \"Kharkov\": 0,\n",
      "    \"Moskva\": 0,\n",
      "    \"Kyiv\": 0.2,\n",
      "    \"Smolensk\": 0.3333333333333333,\n",
      "    \"Petrograd\": 0.16666666666666666,\n",
      "    \"Wilno\": 0.3,\n",
      "    \"Warszawa\": 0.3,\n",
      "    \"Budapest\": 0.3,\n",
      "    \"Riga\": 0.3333333333333333,\n",
      "    \"Stockholm\": 0,\n",
      "    \"Palermo\": 0.3333333333333333,\n",
      "    \"Athina\": 0.16666666666666666,\n",
      "    \"Sofia\": 0.3333333333333333,\n",
      "    \"Danzig\": 0.3333333333333333,\n",
      "    \"Kobenhavn\": 0,\n",
      "    \"Essen\": 0.3333333333333333,\n",
      "    \"Berlin\": 0.3,\n",
      "    \"Wien\": 0.2,\n",
      "    \"Zagrab\": 0.3333333333333333,\n",
      "    \"Sarajevo\": 0.3333333333333333,\n",
      "    \"Brindisi\": 0.3333333333333333,\n",
      "    \"Roma\": 0.16666666666666666,\n",
      "    \"Venezia\": 0.16666666666666666,\n",
      "    \"Frankfurt\": 0.26666666666666666,\n",
      "    \"Munchen\": 0.16666666666666666,\n",
      "    \"Zurich\": 0.3333333333333333\n",
      "}\n"
     ]
    }
   ],
   "source": [
    "#node clustering co-efficient for each city\n",
    "ccoef = nx.clustering(G)\n",
    "print(json.dumps(ccoef, indent=4))"
   ]
  },
  {
   "cell_type": "code",
   "execution_count": 53,
   "metadata": {},
   "outputs": [
    {
     "data": {
      "text/plain": [
       "<matplotlib.legend.Legend at 0xa18daf0f0>"
      ]
     },
     "execution_count": 53,
     "metadata": {},
     "output_type": "execute_result"
    },
    {
     "data": {
      "image/png": "[encoded data removed]",
      "text/plain": [
       "<Figure size 432x288 with 1 Axes>"
      ]
     },
     "metadata": {
      "needs_background": "light"
     },
     "output_type": "display_data"
    }
   ],
   "source": [
    "#histogram of degrees for all nodes\n",
    "degree_list = [G.degree[n] for n in G.nodes(data=False)]\n",
    "\n",
    "plt.hist(degree_list, label=\"Degrees\")\n",
    "plt.legend(loc='upper right')"
   ]
  },
  {
   "cell_type": "code",
   "execution_count": 54,
   "metadata": {},
   "outputs": [
    {
     "data": {
      "text/plain": [
       "<matplotlib.legend.Legend at 0xa18f590b8>"
      ]
     },
     "execution_count": 54,
     "metadata": {},
     "output_type": "execute_result"
    },
    {
     "data": {
      "image/png": "[encoded data removed]",
      "text/plain": [
       "<Figure size 432x288 with 1 Axes>"
      ]
     },
     "metadata": {
      "needs_background": "light"
     },
     "output_type": "display_data"
    }
   ],
   "source": [
    "#histogram of weights for all nodes\n",
    "weights_list = [d['weight'] for u,v,d in G.edges(data=True)]\n",
    "\n",
    "plt.hist(weights_list, label=\"Weights\")\n",
    "plt.legend(loc='upper right')"
   ]
  },
  {
   "cell_type": "code",
   "execution_count": 55,
   "metadata": {},
   "outputs": [
    {
     "data": {
      "text/plain": [
       "<matplotlib.legend.Legend at 0xa190325c0>"
      ]
     },
     "execution_count": 55,
     "metadata": {},
     "output_type": "execute_result"
    },
    {
     "data": {
      "image/png": "[encoded data removed]",
      "text/plain": [
       "<Figure size 432x288 with 1 Axes>"
      ]
     },
     "metadata": {
      "needs_background": "light"
     },
     "output_type": "display_data"
    }
   ],
   "source": [
    "# histogram of destination cards points\n",
    "card_points = [row['card_points'] for idx,row in destinations_df.iterrows()]\n",
    "\n",
    "plt.hist(card_points, label=\"Destination Card Points\")\n",
    "plt.legend(loc='upper right')"
   ]
  },
  {
   "cell_type": "code",
   "execution_count": 56,
   "metadata": {},
   "outputs": [],
   "source": [
    "# calc edge importance from min edge cut's\n",
    "for idx,row in destinations_df.iterrows():\n",
    "    for min_cut in list(nx.minimum_edge_cut(G,row['source'],row['destination'])):\n",
    "        u, v = min_cut\n",
    "        G.edges[u,v]['importance']+=1"
   ]
  },
  {
   "cell_type": "code",
   "execution_count": 57,
   "metadata": {},
   "outputs": [
    {
     "name": "stdout",
     "output_type": "stream",
     "text": [
      "Madrid-Pamplona 5\n",
      "Petrograd-Stockholm 5\n",
      "Pamplona-Brest 4\n",
      "Moskva-Smolensk 4\n",
      "Kobenhavn-Essen 4\n",
      "Madrid-Barcelona 3\n",
      "Barcelona-Marseille 3\n",
      "Paris-Brest 3\n",
      "Brest-Dieppe 3\n",
      "Dieppe-London 3\n"
     ]
    }
   ],
   "source": [
    "for u, v, d in sorted(G.edges(data=True), key=lambda x: x[2]['importance'], reverse=True)[:10]:\n",
    "    print('{u}-{v} {imp}'.format(u=u, v=v, imp=d['importance']))"
   ]
  },
  {
   "cell_type": "code",
   "execution_count": 58,
   "metadata": {},
   "outputs": [
    {
     "name": "stdout",
     "output_type": "stream",
     "text": [
      "('Budapest', 'Wien') - 0.14287916831857628\n",
      "('Zagrab', 'Venezia') - 0.1316726135412537\n",
      "('Wien', 'Munchen') - 0.11743976036297961\n",
      "('Frankfurt', 'Munchen') - 0.11262499449363465\n",
      "('Bucuresti', 'Budapest') - 0.11036518215056604\n"
     ]
    }
   ],
   "source": [
    "# edge-betweenness centrality\n",
    "\n",
    "ebc = nx.edge_betweenness_centrality(G,weight='weight')\n",
    "top_ebc = dict(sorted(ebc.items(), key=lambda x: x[1], reverse=True)[:5])\n",
    "\n",
    "for k,v in top_ebc.items():\n",
    "    print('{} - {}'.format(k,v))"
   ]
  },
  {
   "cell_type": "code",
   "execution_count": null,
   "metadata": {},
   "outputs": [],
   "source": []
  }
 ],
 "metadata": {
  "kernelspec": {
   "display_name": "Python 3",
   "language": "python",
   "name": "python3"
  },
  "language_info": {
   "codemirror_mode": {
    "name": "ipython",
    "version": 3
   },
   "file_extension": ".py",
   "mimetype": "text/x-python",
   "name": "python",
   "nbconvert_exporter": "python",
   "pygments_lexer": "ipython3",
   "version": "3.7.1"
  }
 },
 "nbformat": 4,
 "nbformat_minor": 2
}
